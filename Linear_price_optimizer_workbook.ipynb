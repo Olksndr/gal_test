{
 "cells": [
  {
   "cell_type": "code",
   "execution_count": 1,
   "metadata": {},
   "outputs": [],
   "source": [
    "import pandas as pd\n",
    "import matplotlib.pyplot as plt\n",
    "import numpy as np\n"
   ]
  },
  {
   "cell_type": "code",
   "execution_count": 2,
   "metadata": {
    "scrolled": true
   },
   "outputs": [],
   "source": [
    "from PedAPI import PED"
   ]
  },
  {
   "cell_type": "code",
   "execution_count": 3,
   "metadata": {},
   "outputs": [
    {
     "name": "stderr",
     "output_type": "stream",
     "text": [
      "/home/olksndr/enviroments/tfdeeplearning/lib/python3.5/site-packages/psycopg2/__init__.py:144: UserWarning: The psycopg2 wheel package will be renamed from release 2.8; in order to keep installing from binary please use \"pip install psycopg2-binary\" instead. For details see: <http://initd.org/psycopg/docs/install.html#binary-install-from-pypi>.\n",
      "  \"\"\")\n"
     ]
    }
   ],
   "source": [
    "import psycopg2"
   ]
  },
  {
   "cell_type": "code",
   "execution_count": 4,
   "metadata": {},
   "outputs": [],
   "source": [
    "conn = psycopg2.connect(\"host = localhost dbname = postgres user = postgres\")\n",
    "\n",
    "curr = conn.cursor()"
   ]
  },
  {
   "cell_type": "code",
   "execution_count": 5,
   "metadata": {},
   "outputs": [],
   "source": [
    "curr.execute(\"\"\"\n",
    "select distinct(STORE_NUM) from transactions;\n",
    "\n",
    "\"\"\")"
   ]
  },
  {
   "cell_type": "code",
   "execution_count": 6,
   "metadata": {},
   "outputs": [],
   "source": [
    "unique_stores = curr.fetchall()"
   ]
  },
  {
   "cell_type": "code",
   "execution_count": 7,
   "metadata": {},
   "outputs": [],
   "source": [
    "curr.execute(\"\"\"\n",
    "select distinct(UPC) from transactions;\n",
    "\n",
    "\"\"\")"
   ]
  },
  {
   "cell_type": "code",
   "execution_count": 8,
   "metadata": {},
   "outputs": [],
   "source": [
    "unique_products = curr.fetchall()"
   ]
  },
  {
   "cell_type": "code",
   "execution_count": 9,
   "metadata": {},
   "outputs": [],
   "source": [
    "conn.close()"
   ]
  },
  {
   "cell_type": "code",
   "execution_count": 10,
   "metadata": {},
   "outputs": [],
   "source": [
    "conn = psycopg2.connect(\"host = localhost dbname = postgres user = postgres\")\n",
    "\n",
    "curr = conn.cursor()"
   ]
  },
  {
   "cell_type": "markdown",
   "metadata": {},
   "source": [
    " "
   ]
  },
  {
   "cell_type": "code",
   "execution_count": 11,
   "metadata": {},
   "outputs": [],
   "source": [
    "with open('df_columns.txt','r') as file:\n",
    "    cols = file.read()\n",
    "columns = cols.split(',')[:12]"
   ]
  },
  {
   "cell_type": "code",
   "execution_count": 12,
   "metadata": {
    "scrolled": true
   },
   "outputs": [],
   "source": [
    "result = pd.DataFrame()\n",
    "\n",
    "for unique_store in unique_stores:\n",
    "    for unique_product in unique_products:\n",
    "        \n",
    "        \n",
    "        curr.execute(\"\"\"\n",
    "            select * from transactions\n",
    "            where UPC = %s AND STORE_NUM = %s\n",
    "            \"\"\", (unique_product[0], unique_store[0]))\n",
    "        \n",
    "        sample = curr.fetchall()\n",
    "        \n",
    "        sample = pd.DataFrame(sample, columns=columns)\n",
    "        \n",
    "        if sample.shape[0] < 99:\n",
    "            continue\n",
    "        elif sample.isnull().values.any():\n",
    "            sample = sample.dropna()\n",
    "        \n",
    "        ped_est = PED(sample)\n",
    "        ped_est.perform_fit()\n",
    "        ped_est.get_estimates()\n",
    "        \n",
    "        result = pd.concat((result, pd.DataFrame(ped_est.get_results())))\n",
    "        #result.to_csv('result.csv')\n",
    "result.reset_index().drop('index', axis = 1).to_csv()\n",
    "conn.close()"
   ]
  },
  {
   "cell_type": "code",
   "execution_count": 13,
   "metadata": {},
   "outputs": [
    {
     "data": {
      "text/html": [
       "<div>\n",
       "<style scoped>\n",
       "    .dataframe tbody tr th:only-of-type {\n",
       "        vertical-align: middle;\n",
       "    }\n",
       "\n",
       "    .dataframe tbody tr th {\n",
       "        vertical-align: top;\n",
       "    }\n",
       "\n",
       "    .dataframe thead th {\n",
       "        text-align: right;\n",
       "    }\n",
       "</style>\n",
       "<table border=\"1\" class=\"dataframe\">\n",
       "  <thead>\n",
       "    <tr style=\"text-align: right;\">\n",
       "      <th></th>\n",
       "      <th>STORE_NUM</th>\n",
       "      <th>UPC</th>\n",
       "      <th>current_est_revenue</th>\n",
       "      <th>current_price</th>\n",
       "      <th>estimated_revenue</th>\n",
       "      <th>mean_revenue_increase</th>\n",
       "      <th>recommended_price</th>\n",
       "      <th>week_1_price</th>\n",
       "      <th>week_2_price</th>\n",
       "    </tr>\n",
       "  </thead>\n",
       "  <tbody>\n",
       "    <tr>\n",
       "      <th>count</th>\n",
       "      <td>3391.000000</td>\n",
       "      <td>3.391000e+03</td>\n",
       "      <td>3391.000000</td>\n",
       "      <td>3391.000000</td>\n",
       "      <td>3391.000000</td>\n",
       "      <td>3391.000000</td>\n",
       "      <td>3391.000000</td>\n",
       "      <td>3391.000000</td>\n",
       "      <td>3391.000000</td>\n",
       "    </tr>\n",
       "    <tr>\n",
       "      <th>mean</th>\n",
       "      <td>14696.089354</td>\n",
       "      <td>1.119345e+10</td>\n",
       "      <td>58.092524</td>\n",
       "      <td>3.532265</td>\n",
       "      <td>88.128337</td>\n",
       "      <td>2.590241</td>\n",
       "      <td>4.012159</td>\n",
       "      <td>3.523288</td>\n",
       "      <td>3.519387</td>\n",
       "    </tr>\n",
       "    <tr>\n",
       "      <th>std</th>\n",
       "      <td>8907.934749</td>\n",
       "      <td>2.201341e+10</td>\n",
       "      <td>56.116882</td>\n",
       "      <td>1.507326</td>\n",
       "      <td>111.803868</td>\n",
       "      <td>5.521668</td>\n",
       "      <td>1.836055</td>\n",
       "      <td>1.462578</td>\n",
       "      <td>1.461249</td>\n",
       "    </tr>\n",
       "    <tr>\n",
       "      <th>min</th>\n",
       "      <td>367.000000</td>\n",
       "      <td>1.111009e+09</td>\n",
       "      <td>2.336526</td>\n",
       "      <td>1.170000</td>\n",
       "      <td>4.438793</td>\n",
       "      <td>-0.779957</td>\n",
       "      <td>0.860000</td>\n",
       "      <td>1.190000</td>\n",
       "      <td>1.160000</td>\n",
       "    </tr>\n",
       "    <tr>\n",
       "      <th>25%</th>\n",
       "      <td>6187.000000</td>\n",
       "      <td>1.111087e+09</td>\n",
       "      <td>18.487161</td>\n",
       "      <td>2.505000</td>\n",
       "      <td>25.369175</td>\n",
       "      <td>0.285198</td>\n",
       "      <td>2.600000</td>\n",
       "      <td>2.545000</td>\n",
       "      <td>2.560000</td>\n",
       "    </tr>\n",
       "    <tr>\n",
       "      <th>50%</th>\n",
       "      <td>15541.000000</td>\n",
       "      <td>3.700032e+09</td>\n",
       "      <td>41.389553</td>\n",
       "      <td>3.290000</td>\n",
       "      <td>52.613622</td>\n",
       "      <td>0.925626</td>\n",
       "      <td>3.680000</td>\n",
       "      <td>3.290000</td>\n",
       "      <td>3.290000</td>\n",
       "    </tr>\n",
       "    <tr>\n",
       "      <th>75%</th>\n",
       "      <td>23067.000000</td>\n",
       "      <td>7.218063e+09</td>\n",
       "      <td>76.503429</td>\n",
       "      <td>4.590000</td>\n",
       "      <td>108.322678</td>\n",
       "      <td>2.279370</td>\n",
       "      <td>4.790000</td>\n",
       "      <td>4.590000</td>\n",
       "      <td>4.535000</td>\n",
       "    </tr>\n",
       "    <tr>\n",
       "      <th>max</th>\n",
       "      <td>29159.000000</td>\n",
       "      <td>8.849121e+10</td>\n",
       "      <td>523.301411</td>\n",
       "      <td>11.460000</td>\n",
       "      <td>1513.949739</td>\n",
       "      <td>66.511921</td>\n",
       "      <td>8.890000</td>\n",
       "      <td>11.460000</td>\n",
       "      <td>11.460000</td>\n",
       "    </tr>\n",
       "  </tbody>\n",
       "</table>\n",
       "</div>"
      ],
      "text/plain": [
       "          STORE_NUM           UPC  current_est_revenue  current_price  \\\n",
       "count   3391.000000  3.391000e+03          3391.000000    3391.000000   \n",
       "mean   14696.089354  1.119345e+10            58.092524       3.532265   \n",
       "std     8907.934749  2.201341e+10            56.116882       1.507326   \n",
       "min      367.000000  1.111009e+09             2.336526       1.170000   \n",
       "25%     6187.000000  1.111087e+09            18.487161       2.505000   \n",
       "50%    15541.000000  3.700032e+09            41.389553       3.290000   \n",
       "75%    23067.000000  7.218063e+09            76.503429       4.590000   \n",
       "max    29159.000000  8.849121e+10           523.301411      11.460000   \n",
       "\n",
       "       estimated_revenue  mean_revenue_increase  recommended_price  \\\n",
       "count        3391.000000            3391.000000        3391.000000   \n",
       "mean           88.128337               2.590241           4.012159   \n",
       "std           111.803868               5.521668           1.836055   \n",
       "min             4.438793              -0.779957           0.860000   \n",
       "25%            25.369175               0.285198           2.600000   \n",
       "50%            52.613622               0.925626           3.680000   \n",
       "75%           108.322678               2.279370           4.790000   \n",
       "max          1513.949739              66.511921           8.890000   \n",
       "\n",
       "       week_1_price  week_2_price  \n",
       "count   3391.000000   3391.000000  \n",
       "mean       3.523288      3.519387  \n",
       "std        1.462578      1.461249  \n",
       "min        1.190000      1.160000  \n",
       "25%        2.545000      2.560000  \n",
       "50%        3.290000      3.290000  \n",
       "75%        4.590000      4.535000  \n",
       "max       11.460000     11.460000  "
      ]
     },
     "execution_count": 13,
     "metadata": {},
     "output_type": "execute_result"
    }
   ],
   "source": [
    "result.describe()"
   ]
  },
  {
   "cell_type": "code",
   "execution_count": null,
   "metadata": {},
   "outputs": [],
   "source": []
  }
 ],
 "metadata": {
  "kernelspec": {
   "display_name": "tfdeeplearning",
   "language": "python",
   "name": "tfdeeplearning"
  },
  "language_info": {
   "codemirror_mode": {
    "name": "ipython",
    "version": 3
   },
   "file_extension": ".py",
   "mimetype": "text/x-python",
   "name": "python",
   "nbconvert_exporter": "python",
   "pygments_lexer": "ipython3",
   "version": "3.5.2"
  }
 },
 "nbformat": 4,
 "nbformat_minor": 2
}
