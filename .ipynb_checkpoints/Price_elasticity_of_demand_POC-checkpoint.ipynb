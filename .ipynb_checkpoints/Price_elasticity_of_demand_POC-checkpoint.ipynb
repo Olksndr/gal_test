{
 "cells": [
  {
   "cell_type": "code",
   "execution_count": 1,
   "metadata": {},
   "outputs": [],
   "source": [
    "# data import\n",
    "\n",
    "# data preprocessing\n",
    "\n",
    "# modeling \n"
   ]
  },
  {
   "cell_type": "code",
   "execution_count": 2,
   "metadata": {},
   "outputs": [],
   "source": [
    "import pandas as pd\n",
    "import matplotlib.pyplot as plt\n",
    "import numpy as np\n"
   ]
  },
  {
   "cell_type": "code",
   "execution_count": 3,
   "metadata": {},
   "outputs": [
    {
     "name": "stderr",
     "output_type": "stream",
     "text": [
      "/home/olksndr/enviroments/tfdeeplearning/lib/python3.5/site-packages/psycopg2/__init__.py:144: UserWarning: The psycopg2 wheel package will be renamed from release 2.8; in order to keep installing from binary please use \"pip install psycopg2-binary\" instead. For details see: <http://initd.org/psycopg/docs/install.html#binary-install-from-pypi>.\n",
      "  \"\"\")\n"
     ]
    }
   ],
   "source": [
    "import psycopg2"
   ]
  },
  {
   "cell_type": "code",
   "execution_count": 4,
   "metadata": {},
   "outputs": [],
   "source": [
    "conn = psycopg2.connect(\"host = localhost dbname = postgres user = postgres\")"
   ]
  },
  {
   "cell_type": "code",
   "execution_count": 5,
   "metadata": {},
   "outputs": [],
   "source": [
    "curr = conn.cursor()"
   ]
  },
  {
   "cell_type": "code",
   "execution_count": 6,
   "metadata": {},
   "outputs": [],
   "source": [
    "curr.execute(\"\"\"\n",
    "select * from transactions\n",
    "left join products on transactions.UPC = products.UPC\n",
    "left join stores on transactions.STORE_NUM = stores.STORE_NUM;\n",
    "\"\"\")"
   ]
  },
  {
   "cell_type": "code",
   "execution_count": 7,
   "metadata": {},
   "outputs": [],
   "source": [
    "data = curr.fetchall()"
   ]
  },
  {
   "cell_type": "code",
   "execution_count": 8,
   "metadata": {},
   "outputs": [],
   "source": [
    "conn.close()"
   ]
  },
  {
   "cell_type": "code",
   "execution_count": 9,
   "metadata": {},
   "outputs": [],
   "source": [
    "with open('df_columns.txt', 'r') as file:\n",
    "    cols = file.read()\n",
    "columns = cols.split(',')"
   ]
  },
  {
   "cell_type": "code",
   "execution_count": 10,
   "metadata": {},
   "outputs": [],
   "source": [
    "db = pd.DataFrame(data, columns = columns, )"
   ]
  },
  {
   "cell_type": "code",
   "execution_count": 11,
   "metadata": {},
   "outputs": [
    {
     "data": {
      "text/html": [
       "<div>\n",
       "<style scoped>\n",
       "    .dataframe tbody tr th:only-of-type {\n",
       "        vertical-align: middle;\n",
       "    }\n",
       "\n",
       "    .dataframe tbody tr th {\n",
       "        vertical-align: top;\n",
       "    }\n",
       "\n",
       "    .dataframe thead th {\n",
       "        text-align: right;\n",
       "    }\n",
       "</style>\n",
       "<table border=\"1\" class=\"dataframe\">\n",
       "  <thead>\n",
       "    <tr style=\"text-align: right;\">\n",
       "      <th></th>\n",
       "      <th>WEEK_END_DATE</th>\n",
       "      <th>STORE_NUM</th>\n",
       "      <th>UPC</th>\n",
       "      <th>UNITS</th>\n",
       "      <th>VISITS</th>\n",
       "      <th>HHS</th>\n",
       "      <th>SPEND</th>\n",
       "      <th>BASE_PRICE</th>\n",
       "      <th>PRICE</th>\n",
       "      <th>FEATURE</th>\n",
       "      <th>...</th>\n",
       "      <th>PRODUCT_SIZE</th>\n",
       "      <th>STORE_NUM_1</th>\n",
       "      <th>STORE_NAME</th>\n",
       "      <th>ADDRESS_CITY_NAME</th>\n",
       "      <th>ADDRESS_STATE_PROV_CODE</th>\n",
       "      <th>MSA_CODE</th>\n",
       "      <th>SEG_VALUE_NAME</th>\n",
       "      <th>PARKING_SPACE_QTY</th>\n",
       "      <th>SALES_AREA_SIZE_NUM</th>\n",
       "      <th>AVG_WEEKLY_BASKETS</th>\n",
       "    </tr>\n",
       "  </thead>\n",
       "  <tbody>\n",
       "    <tr>\n",
       "      <th>0</th>\n",
       "      <td>2009-01-14</td>\n",
       "      <td>367</td>\n",
       "      <td>1111009477</td>\n",
       "      <td>13</td>\n",
       "      <td>13</td>\n",
       "      <td>13</td>\n",
       "      <td>20.41</td>\n",
       "      <td>1.39</td>\n",
       "      <td>1.57</td>\n",
       "      <td>0</td>\n",
       "      <td>...</td>\n",
       "      <td>15 OZ</td>\n",
       "      <td>367</td>\n",
       "      <td>15TH &amp; MADISON</td>\n",
       "      <td>COVINGTON</td>\n",
       "      <td>KY</td>\n",
       "      <td>17140</td>\n",
       "      <td>VALUE</td>\n",
       "      <td>196.0</td>\n",
       "      <td>24721</td>\n",
       "      <td>12707</td>\n",
       "    </tr>\n",
       "    <tr>\n",
       "      <th>1</th>\n",
       "      <td>2009-01-14</td>\n",
       "      <td>367</td>\n",
       "      <td>1111009497</td>\n",
       "      <td>20</td>\n",
       "      <td>18</td>\n",
       "      <td>18</td>\n",
       "      <td>27.80</td>\n",
       "      <td>1.39</td>\n",
       "      <td>1.39</td>\n",
       "      <td>0</td>\n",
       "      <td>...</td>\n",
       "      <td>15 OZ</td>\n",
       "      <td>367</td>\n",
       "      <td>15TH &amp; MADISON</td>\n",
       "      <td>COVINGTON</td>\n",
       "      <td>KY</td>\n",
       "      <td>17140</td>\n",
       "      <td>VALUE</td>\n",
       "      <td>196.0</td>\n",
       "      <td>24721</td>\n",
       "      <td>12707</td>\n",
       "    </tr>\n",
       "    <tr>\n",
       "      <th>2</th>\n",
       "      <td>2009-01-14</td>\n",
       "      <td>367</td>\n",
       "      <td>1111009507</td>\n",
       "      <td>14</td>\n",
       "      <td>14</td>\n",
       "      <td>14</td>\n",
       "      <td>19.32</td>\n",
       "      <td>1.38</td>\n",
       "      <td>1.38</td>\n",
       "      <td>0</td>\n",
       "      <td>...</td>\n",
       "      <td>15 OZ</td>\n",
       "      <td>367</td>\n",
       "      <td>15TH &amp; MADISON</td>\n",
       "      <td>COVINGTON</td>\n",
       "      <td>KY</td>\n",
       "      <td>17140</td>\n",
       "      <td>VALUE</td>\n",
       "      <td>196.0</td>\n",
       "      <td>24721</td>\n",
       "      <td>12707</td>\n",
       "    </tr>\n",
       "    <tr>\n",
       "      <th>3</th>\n",
       "      <td>2009-01-14</td>\n",
       "      <td>367</td>\n",
       "      <td>1111035398</td>\n",
       "      <td>4</td>\n",
       "      <td>3</td>\n",
       "      <td>3</td>\n",
       "      <td>17.96</td>\n",
       "      <td>3.50</td>\n",
       "      <td>4.49</td>\n",
       "      <td>0</td>\n",
       "      <td>...</td>\n",
       "      <td>1.5 LT</td>\n",
       "      <td>367</td>\n",
       "      <td>15TH &amp; MADISON</td>\n",
       "      <td>COVINGTON</td>\n",
       "      <td>KY</td>\n",
       "      <td>17140</td>\n",
       "      <td>VALUE</td>\n",
       "      <td>196.0</td>\n",
       "      <td>24721</td>\n",
       "      <td>12707</td>\n",
       "    </tr>\n",
       "    <tr>\n",
       "      <th>4</th>\n",
       "      <td>2009-01-14</td>\n",
       "      <td>367</td>\n",
       "      <td>1111038078</td>\n",
       "      <td>3</td>\n",
       "      <td>3</td>\n",
       "      <td>3</td>\n",
       "      <td>7.50</td>\n",
       "      <td>2.50</td>\n",
       "      <td>2.50</td>\n",
       "      <td>0</td>\n",
       "      <td>...</td>\n",
       "      <td>500 ML</td>\n",
       "      <td>367</td>\n",
       "      <td>15TH &amp; MADISON</td>\n",
       "      <td>COVINGTON</td>\n",
       "      <td>KY</td>\n",
       "      <td>17140</td>\n",
       "      <td>VALUE</td>\n",
       "      <td>196.0</td>\n",
       "      <td>24721</td>\n",
       "      <td>12707</td>\n",
       "    </tr>\n",
       "  </tbody>\n",
       "</table>\n",
       "<p>5 rows × 27 columns</p>\n",
       "</div>"
      ],
      "text/plain": [
       "  WEEK_END_DATE  STORE_NUM         UPC  UNITS  VISITS  HHS  SPEND  BASE_PRICE  \\\n",
       "0    2009-01-14        367  1111009477     13      13   13  20.41        1.39   \n",
       "1    2009-01-14        367  1111009497     20      18   18  27.80        1.39   \n",
       "2    2009-01-14        367  1111009507     14      14   14  19.32        1.38   \n",
       "3    2009-01-14        367  1111035398      4       3    3  17.96        3.50   \n",
       "4    2009-01-14        367  1111038078      3       3    3   7.50        2.50   \n",
       "\n",
       "   PRICE  FEATURE        ...          PRODUCT_SIZE  STORE_NUM_1  \\\n",
       "0   1.57        0        ...                 15 OZ          367   \n",
       "1   1.39        0        ...                 15 OZ          367   \n",
       "2   1.38        0        ...                 15 OZ          367   \n",
       "3   4.49        0        ...                1.5 LT          367   \n",
       "4   2.50        0        ...                500 ML          367   \n",
       "\n",
       "       STORE_NAME ADDRESS_CITY_NAME ADDRESS_STATE_PROV_CODE MSA_CODE  \\\n",
       "0  15TH & MADISON         COVINGTON                      KY    17140   \n",
       "1  15TH & MADISON         COVINGTON                      KY    17140   \n",
       "2  15TH & MADISON         COVINGTON                      KY    17140   \n",
       "3  15TH & MADISON         COVINGTON                      KY    17140   \n",
       "4  15TH & MADISON         COVINGTON                      KY    17140   \n",
       "\n",
       "  SEG_VALUE_NAME PARKING_SPACE_QTY  SALES_AREA_SIZE_NUM AVG_WEEKLY_BASKETS  \n",
       "0          VALUE             196.0                24721              12707  \n",
       "1          VALUE             196.0                24721              12707  \n",
       "2          VALUE             196.0                24721              12707  \n",
       "3          VALUE             196.0                24721              12707  \n",
       "4          VALUE             196.0                24721              12707  \n",
       "\n",
       "[5 rows x 27 columns]"
      ]
     },
     "execution_count": 11,
     "metadata": {},
     "output_type": "execute_result"
    }
   ],
   "source": [
    "db.head()"
   ]
  },
  {
   "cell_type": "code",
   "execution_count": 12,
   "metadata": {},
   "outputs": [],
   "source": [
    "# well perform a prediction using PED for each product (or product category) \n",
    "#for each store separetly (or each store in the region, we'll check this, and choose the strategy depending \n",
    "#on results), then, validate it for the last two weeks."
   ]
  },
  {
   "cell_type": "code",
   "execution_count": 13,
   "metadata": {},
   "outputs": [],
   "source": [
    "db.WEEK_END_DATE = pd.to_datetime(db.WEEK_END_DATE)"
   ]
  },
  {
   "cell_type": "code",
   "execution_count": 14,
   "metadata": {},
   "outputs": [],
   "source": [
    "last_two_weeks = db.WEEK_END_DATE.unique()[-2:]"
   ]
  },
  {
   "cell_type": "code",
   "execution_count": 15,
   "metadata": {},
   "outputs": [
    {
     "data": {
      "text/plain": [
       "array(['2011-12-28T00:00:00.000000000', '2012-01-04T00:00:00.000000000'],\n",
       "      dtype='datetime64[ns]')"
      ]
     },
     "execution_count": 15,
     "metadata": {},
     "output_type": "execute_result"
    }
   ],
   "source": [
    "last_two_weeks"
   ]
  },
  {
   "cell_type": "code",
   "execution_count": 16,
   "metadata": {},
   "outputs": [],
   "source": [
    "test_sample = db[(db['WEEK_END_DATE'] == last_two_weeks[0])|(db['WEEK_END_DATE'] == last_two_weeks[1])]"
   ]
  },
  {
   "cell_type": "code",
   "execution_count": 17,
   "metadata": {
    "scrolled": true
   },
   "outputs": [
    {
     "data": {
      "text/plain": [
       "(538643, 27)"
      ]
     },
     "execution_count": 17,
     "metadata": {},
     "output_type": "execute_result"
    }
   ],
   "source": [
    "db.shape"
   ]
  },
  {
   "cell_type": "code",
   "execution_count": 18,
   "metadata": {},
   "outputs": [],
   "source": [
    "train_sample = db.drop(index=test_sample.index)"
   ]
  },
  {
   "cell_type": "code",
   "execution_count": 19,
   "metadata": {},
   "outputs": [
    {
     "data": {
      "text/plain": [
       "True"
      ]
     },
     "execution_count": 19,
     "metadata": {},
     "output_type": "execute_result"
    }
   ],
   "source": [
    "train_sample.shape[0] + test_sample.shape[0] == db.shape[0]"
   ]
  },
  {
   "cell_type": "markdown",
   "metadata": {},
   "source": [
    " "
   ]
  },
  {
   "cell_type": "code",
   "execution_count": 20,
   "metadata": {},
   "outputs": [],
   "source": [
    "unique_stores = db.STORE_NUM.unique()"
   ]
  },
  {
   "cell_type": "code",
   "execution_count": 21,
   "metadata": {},
   "outputs": [
    {
     "data": {
      "text/plain": [
       "367"
      ]
     },
     "execution_count": 21,
     "metadata": {},
     "output_type": "execute_result"
    }
   ],
   "source": [
    "unique_stores[0]"
   ]
  },
  {
   "cell_type": "code",
   "execution_count": 22,
   "metadata": {},
   "outputs": [],
   "source": [
    "unique_products = db.UPC.unique()"
   ]
  },
  {
   "cell_type": "code",
   "execution_count": 23,
   "metadata": {},
   "outputs": [
    {
     "data": {
      "text/plain": [
       "1111009477"
      ]
     },
     "execution_count": 23,
     "metadata": {},
     "output_type": "execute_result"
    }
   ],
   "source": [
    "unique_products[0]"
   ]
  },
  {
   "cell_type": "code",
   "execution_count": 24,
   "metadata": {},
   "outputs": [],
   "source": [
    "train_data = train_sample[(train_sample.UPC == unique_products[0]) & (train_sample.STORE_NUM == unique_stores[0])]\n",
    "\n",
    "test_data = test_sample[(test_sample.UPC == unique_products[0]) & (test_sample.STORE_NUM == unique_stores[0])]"
   ]
  },
  {
   "cell_type": "code",
   "execution_count": null,
   "metadata": {},
   "outputs": [],
   "source": []
  },
  {
   "cell_type": "code",
   "execution_count": 25,
   "metadata": {},
   "outputs": [
    {
     "data": {
      "text/plain": [
       "<matplotlib.collections.PathCollection at 0x7f2dcdedf128>"
      ]
     },
     "execution_count": 25,
     "metadata": {},
     "output_type": "execute_result"
    },
    {
     "data": {
      "image/png": "[encoded data removed]",
      "text/plain": [
       "<Figure size 432x288 with 1 Axes>"
      ]
     },
     "metadata": {
      "needs_background": "light"
     },
     "output_type": "display_data"
    }
   ],
   "source": [
    "plt.scatter(train_data.PRICE, train_data.UNITS)\n"
   ]
  },
  {
   "cell_type": "markdown",
   "metadata": {},
   "source": [
    "# let's perform the simplest fit"
   ]
  },
  {
   "cell_type": "code",
   "execution_count": 26,
   "metadata": {},
   "outputs": [],
   "source": [
    "from sklearn.linear_model import LinearRegression"
   ]
  },
  {
   "cell_type": "code",
   "execution_count": 27,
   "metadata": {},
   "outputs": [],
   "source": [
    "lr = LinearRegression()"
   ]
  },
  {
   "cell_type": "code",
   "execution_count": 28,
   "metadata": {},
   "outputs": [
    {
     "data": {
      "text/plain": [
       "LinearRegression(copy_X=True, fit_intercept=True, n_jobs=None,\n",
       "         normalize=False)"
      ]
     },
     "execution_count": 28,
     "metadata": {},
     "output_type": "execute_result"
    }
   ],
   "source": [
    "lr.fit(X=train_data[['PRICE']], y = train_data['UNITS'])"
   ]
  },
  {
   "cell_type": "markdown",
   "metadata": {},
   "source": [
    " "
   ]
  },
  {
   "cell_type": "code",
   "execution_count": 29,
   "metadata": {},
   "outputs": [
    {
     "data": {
      "text/plain": [
       "[<matplotlib.lines.Line2D at 0x7f2dd4926160>]"
      ]
     },
     "execution_count": 29,
     "metadata": {},
     "output_type": "execute_result"
    },
    {
     "data": {
      "image/png": "[encoded data removed]",
      "text/plain": [
       "<Figure size 432x288 with 1 Axes>"
      ]
     },
     "metadata": {
      "needs_background": "light"
     },
     "output_type": "display_data"
    }
   ],
   "source": [
    "def f(x, linear_model):\n",
    "    \"This function is used to visualize a regression\"\n",
    "    return linear_model.intercept_+linear_model.coef_[0]*x\n",
    "\n",
    "plt.scatter(train_data.PRICE, train_data.UNITS)\n",
    "plt.plot(train_data.PRICE, f(train_data.PRICE, lr), 'r')"
   ]
  },
  {
   "cell_type": "markdown",
   "metadata": {},
   "source": [
    "# and now lets extrapolate and interpret the result (add the formula)"
   ]
  },
  {
   "cell_type": "code",
   "execution_count": 30,
   "metadata": {},
   "outputs": [],
   "source": [
    "x = np.arange(train_data.PRICE.min(), train_data.PRICE.max()+1, 0.01)\n",
    "y = []\n",
    "\n",
    "for i in range(x.shape[0]):\n",
    "    y.append((x[i])*(lr.intercept_+lr.coef_[0]*x[i]))"
   ]
  },
  {
   "cell_type": "code",
   "execution_count": 31,
   "metadata": {},
   "outputs": [
    {
     "data": {
      "text/plain": [
       "[<matplotlib.lines.Line2D at 0x7f2daddfd7b8>]"
      ]
     },
     "execution_count": 31,
     "metadata": {},
     "output_type": "execute_result"
    },
    {
     "data": {
      "image/png": "[encoded data removed]",
      "text/plain": [
       "<Figure size 432x288 with 1 Axes>"
      ]
     },
     "metadata": {
      "needs_background": "light"
     },
     "output_type": "display_data"
    }
   ],
   "source": [
    "current_price, current_estimated_revenue = train_data.PRICE.iloc[-1], (train_data.PRICE.iloc[-1])*(lr.intercept_+lr.coef_[0]*train_data.PRICE.iloc[-1])\n",
    "\n",
    "recommended_price, estimated_revenue = x[np.array(y).argmax(axis=0)], np.array(y).max()\n",
    "\n",
    "test_data_price, test_data_revenue = test_data.PRICE, test_data.SPEND\n",
    "\n",
    "plt.plot(x,y)\n",
    "plt.plot(recommended_price, estimated_revenue, 'g H')\n",
    "plt.plot(current_price, current_estimated_revenue, 'r H')"
   ]
  },
  {
   "cell_type": "code",
   "execution_count": 32,
   "metadata": {},
   "outputs": [
    {
     "name": "stdout",
     "output_type": "stream",
     "text": [
      "last observed price is 1.63\n",
      "current estimated revenue is 25.02\n",
      "recommended price is 1.42    \n",
      "estimated revenue is 25.57\n",
      "the next two weeks prices are: 1.63, 1.6    \n",
      "applying recommended prices increases mean revenue by 32.97%\n"
     ]
    }
   ],
   "source": [
    "print('last observed price is {:.2f}\\ncurrent estimated revenue is {:.2f}\\nrecommended price is {:.2f}\\\n",
    "    \\nestimated revenue is {:.2f}\\nthe next two weeks prices are: {}, {}\\\n",
    "    \\napplying recommended prices increases mean revenue by {:.2%}'\\\n",
    "      .format(current_price,\n",
    "              current_estimated_revenue,\n",
    "              recommended_price,\n",
    "              estimated_revenue,\n",
    "              test_data_price.values[0], test_data_price.values[1],\n",
    "              ((estimated_revenue - test_data_revenue) / test_data_revenue).mean())\n",
    "             )"
   ]
  },
  {
   "cell_type": "markdown",
   "metadata": {},
   "source": [
    "# lets perform a fancier fit"
   ]
  },
  {
   "cell_type": "code",
   "execution_count": 33,
   "metadata": {},
   "outputs": [],
   "source": [
    "import xgboost as xgb"
   ]
  },
  {
   "cell_type": "code",
   "execution_count": 34,
   "metadata": {},
   "outputs": [
    {
     "data": {
      "text/plain": [
       "['KY', 'OH', 'TX', 'IN']"
      ]
     },
     "execution_count": 34,
     "metadata": {},
     "output_type": "execute_result"
    }
   ],
   "source": [
    "db.ADDRESS_STATE_PROV_CODE.unique().tolist()"
   ]
  },
  {
   "cell_type": "code",
   "execution_count": 35,
   "metadata": {},
   "outputs": [],
   "source": [
    "from sklearn.preprocessing import OneHotEncoder\n",
    "\n",
    "def prepare_data(data):\n",
    "    enc = OneHotEncoder()\n",
    "\n",
    "    \n",
    "    state_one_hot = pd.DataFrame(enc.fit_transform(data[['ADDRESS_STATE_PROV_CODE']]).toarray(),\n",
    "                       columns = data.ADDRESS_STATE_PROV_CODE.unique().tolist(), index = data.index).astype(int)\n",
    "    \n",
    "    manufacturer_one_hot = pd.DataFrame(enc.fit_transform(data[['MANUFACTURER']]).toarray(),\n",
    "                       columns = data.MANUFACTURER.unique().tolist(), index = data.index).astype(int)\n",
    "    \n",
    "    data = data.join(state_one_hot, how='left')\n",
    "    data = data.join(manufacturer_one_hot, how = 'left')\n",
    "    \n",
    "    _x_cols = data.columns[[1,2,8,9,10,11]].tolist()\n",
    "    state_encoded =  data.ADDRESS_STATE_PROV_CODE.unique().tolist()\n",
    "    state_encoded.extend(data.MANUFACTURER.unique().tolist())\n",
    "    _x_cols.extend(state_encoded)\n",
    "    \n",
    "    return data[_x_cols], data['UNITS']\n",
    "    \n",
    "    "
   ]
  },
  {
   "cell_type": "code",
   "execution_count": 36,
   "metadata": {},
   "outputs": [
    {
     "data": {
      "text/plain": [
       "['STORE_NUM', 'UPC', 'PRICE', 'FEATURE', 'DISPLAY', 'TPR_ONLY']"
      ]
     },
     "execution_count": 36,
     "metadata": {},
     "output_type": "execute_result"
    }
   ],
   "source": [
    "db.columns[[1,2,8,9,10,11]].tolist()"
   ]
  },
  {
   "cell_type": "code",
   "execution_count": 37,
   "metadata": {},
   "outputs": [],
   "source": [
    "# 'BAG SNACKS'\n",
    "\n",
    "train_data = train_sample[train_sample.CATEGORY == train_sample.CATEGORY.unique()[0]]\n",
    "\n",
    "test_data = test_sample[test_sample.CATEGORY == train_sample.CATEGORY.unique()[0] ]"
   ]
  },
  {
   "cell_type": "code",
   "execution_count": 38,
   "metadata": {},
   "outputs": [],
   "source": [
    "x_test, y_test = prepare_data(test_data)"
   ]
  },
  {
   "cell_type": "code",
   "execution_count": 39,
   "metadata": {},
   "outputs": [],
   "source": [
    "x_train, y_train = prepare_data(train_data)"
   ]
  },
  {
   "cell_type": "code",
   "execution_count": 40,
   "metadata": {
    "scrolled": true
   },
   "outputs": [
    {
     "data": {
      "text/html": [
       "<div>\n",
       "<style scoped>\n",
       "    .dataframe tbody tr th:only-of-type {\n",
       "        vertical-align: middle;\n",
       "    }\n",
       "\n",
       "    .dataframe tbody tr th {\n",
       "        vertical-align: top;\n",
       "    }\n",
       "\n",
       "    .dataframe thead th {\n",
       "        text-align: right;\n",
       "    }\n",
       "</style>\n",
       "<table border=\"1\" class=\"dataframe\">\n",
       "  <thead>\n",
       "    <tr style=\"text-align: right;\">\n",
       "      <th></th>\n",
       "      <th>STORE_NUM</th>\n",
       "      <th>UPC</th>\n",
       "      <th>PRICE</th>\n",
       "      <th>FEATURE</th>\n",
       "      <th>DISPLAY</th>\n",
       "      <th>TPR_ONLY</th>\n",
       "      <th>KY</th>\n",
       "      <th>OH</th>\n",
       "      <th>TX</th>\n",
       "      <th>IN</th>\n",
       "      <th>PRIVATE LABEL</th>\n",
       "      <th>FRITO LAY</th>\n",
       "      <th>SHULTZ</th>\n",
       "      <th>SNYDER S</th>\n",
       "      <th>MKSL</th>\n",
       "    </tr>\n",
       "  </thead>\n",
       "  <tbody>\n",
       "    <tr>\n",
       "      <th>0</th>\n",
       "      <td>367</td>\n",
       "      <td>1111009477</td>\n",
       "      <td>1.57</td>\n",
       "      <td>0</td>\n",
       "      <td>0</td>\n",
       "      <td>1</td>\n",
       "      <td>0</td>\n",
       "      <td>1</td>\n",
       "      <td>0</td>\n",
       "      <td>0</td>\n",
       "      <td>0</td>\n",
       "      <td>0</td>\n",
       "      <td>1</td>\n",
       "      <td>0</td>\n",
       "      <td>0</td>\n",
       "    </tr>\n",
       "    <tr>\n",
       "      <th>1</th>\n",
       "      <td>367</td>\n",
       "      <td>1111009497</td>\n",
       "      <td>1.39</td>\n",
       "      <td>0</td>\n",
       "      <td>0</td>\n",
       "      <td>0</td>\n",
       "      <td>0</td>\n",
       "      <td>1</td>\n",
       "      <td>0</td>\n",
       "      <td>0</td>\n",
       "      <td>0</td>\n",
       "      <td>0</td>\n",
       "      <td>1</td>\n",
       "      <td>0</td>\n",
       "      <td>0</td>\n",
       "    </tr>\n",
       "    <tr>\n",
       "      <th>2</th>\n",
       "      <td>367</td>\n",
       "      <td>1111009507</td>\n",
       "      <td>1.38</td>\n",
       "      <td>0</td>\n",
       "      <td>0</td>\n",
       "      <td>0</td>\n",
       "      <td>0</td>\n",
       "      <td>1</td>\n",
       "      <td>0</td>\n",
       "      <td>0</td>\n",
       "      <td>0</td>\n",
       "      <td>0</td>\n",
       "      <td>1</td>\n",
       "      <td>0</td>\n",
       "      <td>0</td>\n",
       "    </tr>\n",
       "    <tr>\n",
       "      <th>15</th>\n",
       "      <td>367</td>\n",
       "      <td>2840004768</td>\n",
       "      <td>2.89</td>\n",
       "      <td>0</td>\n",
       "      <td>0</td>\n",
       "      <td>0</td>\n",
       "      <td>0</td>\n",
       "      <td>1</td>\n",
       "      <td>0</td>\n",
       "      <td>0</td>\n",
       "      <td>1</td>\n",
       "      <td>0</td>\n",
       "      <td>0</td>\n",
       "      <td>0</td>\n",
       "      <td>0</td>\n",
       "    </tr>\n",
       "    <tr>\n",
       "      <th>25</th>\n",
       "      <td>367</td>\n",
       "      <td>7027316204</td>\n",
       "      <td>3.29</td>\n",
       "      <td>0</td>\n",
       "      <td>0</td>\n",
       "      <td>1</td>\n",
       "      <td>0</td>\n",
       "      <td>1</td>\n",
       "      <td>0</td>\n",
       "      <td>0</td>\n",
       "      <td>0</td>\n",
       "      <td>0</td>\n",
       "      <td>0</td>\n",
       "      <td>1</td>\n",
       "      <td>0</td>\n",
       "    </tr>\n",
       "  </tbody>\n",
       "</table>\n",
       "</div>"
      ],
      "text/plain": [
       "    STORE_NUM         UPC  PRICE  FEATURE  DISPLAY  TPR_ONLY  KY  OH  TX  IN  \\\n",
       "0         367  1111009477   1.57        0        0         1   0   1   0   0   \n",
       "1         367  1111009497   1.39        0        0         0   0   1   0   0   \n",
       "2         367  1111009507   1.38        0        0         0   0   1   0   0   \n",
       "15        367  2840004768   2.89        0        0         0   0   1   0   0   \n",
       "25        367  7027316204   3.29        0        0         1   0   1   0   0   \n",
       "\n",
       "    PRIVATE LABEL  FRITO LAY  SHULTZ  SNYDER S  MKSL  \n",
       "0               0          0       1         0     0  \n",
       "1               0          0       1         0     0  \n",
       "2               0          0       1         0     0  \n",
       "15              1          0       0         0     0  \n",
       "25              0          0       0         1     0  "
      ]
     },
     "execution_count": 40,
     "metadata": {},
     "output_type": "execute_result"
    }
   ],
   "source": [
    "x_train.head()"
   ]
  },
  {
   "cell_type": "code",
   "execution_count": 41,
   "metadata": {},
   "outputs": [],
   "source": [
    "params = {'max_depth':8,\n",
    "'min_child_weight':10,\n",
    "'learning_rate':0.3,\n",
    "'subsample':0.5,\n",
    "'colsample_bytree':0.6,\n",
    "'obj':'reg:linear',\n",
    "'n_estimators':1000,\n",
    "'eta':0.3}"
   ]
  },
  {
   "cell_type": "code",
   "execution_count": 42,
   "metadata": {},
   "outputs": [],
   "source": [
    "dmatrix = xgb.DMatrix(x_train.values,\n",
    "                     y_train.values,\n",
    "                     feature_names=x_train.columns.values)"
   ]
  },
  {
   "cell_type": "code",
   "execution_count": 43,
   "metadata": {},
   "outputs": [
    {
     "name": "stdout",
     "output_type": "stream",
     "text": [
      "[16:48:35] /workspace/src/tree/updater_prune.cc:74: tree pruning end, 1 roots, 228 extra nodes, 0 pruned nodes, max_depth=8\n",
      "[16:48:35] /workspace/src/tree/updater_prune.cc:74: tree pruning end, 1 roots, 306 extra nodes, 0 pruned nodes, max_depth=8\n",
      "[16:48:35] /workspace/src/tree/updater_prune.cc:74: tree pruning end, 1 roots, 106 extra nodes, 0 pruned nodes, max_depth=8\n",
      "[16:48:35] /workspace/src/tree/updater_prune.cc:74: tree pruning end, 1 roots, 82 extra nodes, 0 pruned nodes, max_depth=8\n",
      "[16:48:35] /workspace/src/tree/updater_prune.cc:74: tree pruning end, 1 roots, 54 extra nodes, 0 pruned nodes, max_depth=8\n",
      "[16:48:35] /workspace/src/tree/updater_prune.cc:74: tree pruning end, 1 roots, 114 extra nodes, 0 pruned nodes, max_depth=8\n",
      "[16:48:35] /workspace/src/tree/updater_prune.cc:74: tree pruning end, 1 roots, 300 extra nodes, 0 pruned nodes, max_depth=8\n",
      "[16:48:35] /workspace/src/tree/updater_prune.cc:74: tree pruning end, 1 roots, 246 extra nodes, 0 pruned nodes, max_depth=8\n",
      "[16:48:35] /workspace/src/tree/updater_prune.cc:74: tree pruning end, 1 roots, 92 extra nodes, 0 pruned nodes, max_depth=8\n",
      "[16:48:35] /workspace/src/tree/updater_prune.cc:74: tree pruning end, 1 roots, 346 extra nodes, 0 pruned nodes, max_depth=8\n"
     ]
    }
   ],
   "source": [
    "clf = xgb.train(params, dmatrix)"
   ]
  },
  {
   "cell_type": "code",
   "execution_count": 44,
   "metadata": {},
   "outputs": [],
   "source": [
    "pred = clf.predict(xgb.DMatrix(x_test))"
   ]
  },
  {
   "cell_type": "code",
   "execution_count": 45,
   "metadata": {},
   "outputs": [],
   "source": [
    "from sklearn.metrics import mean_absolute_error"
   ]
  },
  {
   "cell_type": "code",
   "execution_count": 46,
   "metadata": {},
   "outputs": [
    {
     "data": {
      "text/plain": [
       "9.976633359918075"
      ]
     },
     "execution_count": 46,
     "metadata": {},
     "output_type": "execute_result"
    }
   ],
   "source": [
    "mean_absolute_error(y_pred=pred, y_true=y_test)"
   ]
  },
  {
   "cell_type": "code",
   "execution_count": 47,
   "metadata": {},
   "outputs": [],
   "source": [
    "# seems ok to me)\n",
    "# now, we have taken into concern more features, such as advertisment, product manufacturer, and store parameters/"
   ]
  },
  {
   "cell_type": "code",
   "execution_count": 48,
   "metadata": {},
   "outputs": [
    {
     "data": {
      "text/plain": [
       "<matplotlib.collections.PathCollection at 0x7f2dafa0fa58>"
      ]
     },
     "execution_count": 48,
     "metadata": {},
     "output_type": "execute_result"
    },
    {
     "data": {
      "image/png": "[encoded data removed]",
      "text/plain": [
       "<Figure size 864x576 with 1 Axes>"
      ]
     },
     "metadata": {
      "needs_background": "light"
     },
     "output_type": "display_data"
    }
   ],
   "source": [
    "fig = plt.figure()\n",
    "fig.set_size_inches(12, 8)\n",
    "plt.scatter(x_test.PRICE, y_test)\n",
    "plt.scatter(x_test.PRICE, pred)"
   ]
  },
  {
   "cell_type": "code",
   "execution_count": 49,
   "metadata": {},
   "outputs": [],
   "source": [
    "# and now lets extrapolate the revenue for some product over one store"
   ]
  },
  {
   "cell_type": "code",
   "execution_count": 50,
   "metadata": {},
   "outputs": [],
   "source": [
    "train_data = train_sample[(train_sample.UPC == unique_products[0]) & (train_sample.STORE_NUM == unique_stores[0])]\n",
    "\n",
    "test_data = test_sample[(test_sample.UPC == unique_products[0]) & (test_sample.STORE_NUM == unique_stores[0])]"
   ]
  },
  {
   "cell_type": "code",
   "execution_count": 51,
   "metadata": {},
   "outputs": [
    {
     "data": {
      "text/html": [
       "<div>\n",
       "<style scoped>\n",
       "    .dataframe tbody tr th:only-of-type {\n",
       "        vertical-align: middle;\n",
       "    }\n",
       "\n",
       "    .dataframe tbody tr th {\n",
       "        vertical-align: top;\n",
       "    }\n",
       "\n",
       "    .dataframe thead th {\n",
       "        text-align: right;\n",
       "    }\n",
       "</style>\n",
       "<table border=\"1\" class=\"dataframe\">\n",
       "  <thead>\n",
       "    <tr style=\"text-align: right;\">\n",
       "      <th></th>\n",
       "      <th>WEEK_END_DATE</th>\n",
       "      <th>STORE_NUM</th>\n",
       "      <th>UPC</th>\n",
       "      <th>UNITS</th>\n",
       "      <th>VISITS</th>\n",
       "      <th>HHS</th>\n",
       "      <th>SPEND</th>\n",
       "      <th>BASE_PRICE</th>\n",
       "      <th>PRICE</th>\n",
       "      <th>FEATURE</th>\n",
       "      <th>...</th>\n",
       "      <th>PRODUCT_SIZE</th>\n",
       "      <th>STORE_NUM_1</th>\n",
       "      <th>STORE_NAME</th>\n",
       "      <th>ADDRESS_CITY_NAME</th>\n",
       "      <th>ADDRESS_STATE_PROV_CODE</th>\n",
       "      <th>MSA_CODE</th>\n",
       "      <th>SEG_VALUE_NAME</th>\n",
       "      <th>PARKING_SPACE_QTY</th>\n",
       "      <th>SALES_AREA_SIZE_NUM</th>\n",
       "      <th>AVG_WEEKLY_BASKETS</th>\n",
       "    </tr>\n",
       "  </thead>\n",
       "  <tbody>\n",
       "    <tr>\n",
       "      <th>531962</th>\n",
       "      <td>2011-12-28</td>\n",
       "      <td>367</td>\n",
       "      <td>1111009477</td>\n",
       "      <td>13</td>\n",
       "      <td>12</td>\n",
       "      <td>12</td>\n",
       "      <td>21.19</td>\n",
       "      <td>1.63</td>\n",
       "      <td>1.63</td>\n",
       "      <td>0</td>\n",
       "      <td>...</td>\n",
       "      <td>15 OZ</td>\n",
       "      <td>367</td>\n",
       "      <td>15TH &amp; MADISON</td>\n",
       "      <td>COVINGTON</td>\n",
       "      <td>KY</td>\n",
       "      <td>17140</td>\n",
       "      <td>VALUE</td>\n",
       "      <td>196.0</td>\n",
       "      <td>24721</td>\n",
       "      <td>12707</td>\n",
       "    </tr>\n",
       "    <tr>\n",
       "      <th>535231</th>\n",
       "      <td>2012-01-04</td>\n",
       "      <td>367</td>\n",
       "      <td>1111009477</td>\n",
       "      <td>11</td>\n",
       "      <td>9</td>\n",
       "      <td>9</td>\n",
       "      <td>17.60</td>\n",
       "      <td>1.60</td>\n",
       "      <td>1.60</td>\n",
       "      <td>0</td>\n",
       "      <td>...</td>\n",
       "      <td>15 OZ</td>\n",
       "      <td>367</td>\n",
       "      <td>15TH &amp; MADISON</td>\n",
       "      <td>COVINGTON</td>\n",
       "      <td>KY</td>\n",
       "      <td>17140</td>\n",
       "      <td>VALUE</td>\n",
       "      <td>196.0</td>\n",
       "      <td>24721</td>\n",
       "      <td>12707</td>\n",
       "    </tr>\n",
       "  </tbody>\n",
       "</table>\n",
       "<p>2 rows × 27 columns</p>\n",
       "</div>"
      ],
      "text/plain": [
       "       WEEK_END_DATE  STORE_NUM         UPC  UNITS  VISITS  HHS  SPEND  \\\n",
       "531962    2011-12-28        367  1111009477     13      12   12  21.19   \n",
       "535231    2012-01-04        367  1111009477     11       9    9  17.60   \n",
       "\n",
       "        BASE_PRICE  PRICE  FEATURE        ...          PRODUCT_SIZE  \\\n",
       "531962        1.63   1.63        0        ...                 15 OZ   \n",
       "535231        1.60   1.60        0        ...                 15 OZ   \n",
       "\n",
       "        STORE_NUM_1      STORE_NAME ADDRESS_CITY_NAME ADDRESS_STATE_PROV_CODE  \\\n",
       "531962          367  15TH & MADISON         COVINGTON                      KY   \n",
       "535231          367  15TH & MADISON         COVINGTON                      KY   \n",
       "\n",
       "       MSA_CODE SEG_VALUE_NAME PARKING_SPACE_QTY  SALES_AREA_SIZE_NUM  \\\n",
       "531962    17140          VALUE             196.0                24721   \n",
       "535231    17140          VALUE             196.0                24721   \n",
       "\n",
       "       AVG_WEEKLY_BASKETS  \n",
       "531962              12707  \n",
       "535231              12707  \n",
       "\n",
       "[2 rows x 27 columns]"
      ]
     },
     "execution_count": 51,
     "metadata": {},
     "output_type": "execute_result"
    }
   ],
   "source": [
    "test_data.head(5)"
   ]
  },
  {
   "cell_type": "code",
   "execution_count": 52,
   "metadata": {},
   "outputs": [
    {
     "data": {
      "text/html": [
       "<div>\n",
       "<style scoped>\n",
       "    .dataframe tbody tr th:only-of-type {\n",
       "        vertical-align: middle;\n",
       "    }\n",
       "\n",
       "    .dataframe tbody tr th {\n",
       "        vertical-align: top;\n",
       "    }\n",
       "\n",
       "    .dataframe thead th {\n",
       "        text-align: right;\n",
       "    }\n",
       "</style>\n",
       "<table border=\"1\" class=\"dataframe\">\n",
       "  <thead>\n",
       "    <tr style=\"text-align: right;\">\n",
       "      <th></th>\n",
       "      <th>STORE_NUM</th>\n",
       "      <th>UPC</th>\n",
       "      <th>PRICE</th>\n",
       "      <th>FEATURE</th>\n",
       "      <th>DISPLAY</th>\n",
       "      <th>TPR_ONLY</th>\n",
       "      <th>KY</th>\n",
       "      <th>OH</th>\n",
       "      <th>TX</th>\n",
       "      <th>IN</th>\n",
       "      <th>PRIVATE LABEL</th>\n",
       "      <th>FRITO LAY</th>\n",
       "      <th>SHULTZ</th>\n",
       "      <th>SNYDER S</th>\n",
       "      <th>MKSL</th>\n",
       "    </tr>\n",
       "  </thead>\n",
       "  <tbody>\n",
       "    <tr>\n",
       "      <th>531962</th>\n",
       "      <td>367</td>\n",
       "      <td>1111009477</td>\n",
       "      <td>1.63</td>\n",
       "      <td>0</td>\n",
       "      <td>0</td>\n",
       "      <td>0</td>\n",
       "      <td>0</td>\n",
       "      <td>1</td>\n",
       "      <td>0</td>\n",
       "      <td>0</td>\n",
       "      <td>0</td>\n",
       "      <td>0</td>\n",
       "      <td>1</td>\n",
       "      <td>0</td>\n",
       "      <td>0</td>\n",
       "    </tr>\n",
       "    <tr>\n",
       "      <th>535231</th>\n",
       "      <td>367</td>\n",
       "      <td>1111009477</td>\n",
       "      <td>1.60</td>\n",
       "      <td>0</td>\n",
       "      <td>0</td>\n",
       "      <td>0</td>\n",
       "      <td>0</td>\n",
       "      <td>1</td>\n",
       "      <td>0</td>\n",
       "      <td>0</td>\n",
       "      <td>0</td>\n",
       "      <td>0</td>\n",
       "      <td>1</td>\n",
       "      <td>0</td>\n",
       "      <td>0</td>\n",
       "    </tr>\n",
       "  </tbody>\n",
       "</table>\n",
       "</div>"
      ],
      "text/plain": [
       "        STORE_NUM         UPC  PRICE  FEATURE  DISPLAY  TPR_ONLY  KY  OH  TX  \\\n",
       "531962        367  1111009477   1.63        0        0         0   0   1   0   \n",
       "535231        367  1111009477   1.60        0        0         0   0   1   0   \n",
       "\n",
       "        IN  PRIVATE LABEL  FRITO LAY  SHULTZ  SNYDER S  MKSL  \n",
       "531962   0              0          0       1         0     0  \n",
       "535231   0              0          0       1         0     0  "
      ]
     },
     "execution_count": 52,
     "metadata": {},
     "output_type": "execute_result"
    }
   ],
   "source": [
    "data_to_test = x_test[(x_test.STORE_NUM == unique_stores[0]) & (x_test.UPC == unique_products[0])]\n",
    "data_to_test"
   ]
  },
  {
   "cell_type": "code",
   "execution_count": 53,
   "metadata": {},
   "outputs": [],
   "source": [
    "# we need to find optimal values for 'price', 'feature', 'display' and 'TPR_only'"
   ]
  },
  {
   "cell_type": "code",
   "execution_count": 54,
   "metadata": {},
   "outputs": [],
   "source": [
    "def get_price_and_adv(data_to_test):\n",
    "    price_range = np.arange(train_data.PRICE.min(), train_data.PRICE.max()+1, 0.01)\n",
    "\n",
    "    possible_adv = [{'FEATURE':0,'DISPLAY':0,'TPR_ONLY': 0},\n",
    "                    {'FEATURE':0,'DISPLAY':1,'TPR_ONLY': 0},\n",
    "                    {'FEATURE':1,'DISPLAY':0,'TPR_ONLY': 0},\n",
    "                    {'FEATURE':0,'DISPLAY':0,'TPR_ONLY': 1},\n",
    "                    {'FEATURE':0,'DISPLAY':1,'TPR_ONLY': 1},\n",
    "                    {'FEATURE':1,'DISPLAY':1,'TPR_ONLY': 1}\n",
    "                   ]\n",
    "\n",
    "    store_and_prod_features = data_to_test[data_to_test.columns[6:]].iloc[0].to_dict()\n",
    "\n",
    "    result = [[],[],[],[],[],[]]\n",
    "    \n",
    "    for price in price_range:\n",
    "        for i in range(len(possible_adv)):\n",
    "            row = {\n",
    "                'STORE_NUM' : unique_stores[0],\n",
    "                'UPC' : unique_products[0],\n",
    "                'PRICE' : price  \n",
    "                  }\n",
    "            row.update(possible_adv[i])\n",
    "            row.update(store_and_prod_features)\n",
    "            \n",
    "            result[i].append(row)\n",
    "\n",
    "    \n",
    "\n",
    "    return [pd.DataFrame(df) for df in result]"
   ]
  },
  {
   "cell_type": "code",
   "execution_count": 55,
   "metadata": {
    "scrolled": true
   },
   "outputs": [],
   "source": [
    "result = get_price_and_adv(data_to_test)"
   ]
  },
  {
   "cell_type": "code",
   "execution_count": 56,
   "metadata": {},
   "outputs": [],
   "source": [
    "for i in range(len(result)):\n",
    "    \n",
    "    pd.DataFrame(result[i])['Est_revenues'] = clf.predict(xgb.DMatrix(result[i][data_to_test.columns]))\n",
    "    "
   ]
  },
  {
   "cell_type": "code",
   "execution_count": 57,
   "metadata": {},
   "outputs": [
    {
     "data": {
      "text/plain": [
       "<matplotlib.legend.Legend at 0x7f2da5e9def0>"
      ]
     },
     "execution_count": 57,
     "metadata": {},
     "output_type": "execute_result"
    },
    {
     "data": {
      "image/png": "[encoded data removed]",
      "text/plain": [
       "<Figure size 864x576 with 1 Axes>"
      ]
     },
     "metadata": {
      "needs_background": "light"
     },
     "output_type": "display_data"
    }
   ],
   "source": [
    "fig = plt.figure()\n",
    "\n",
    "fig.set_size_inches(12, 8)\n",
    "for df in range(len(result)):\n",
    "    \n",
    "    #labels = pd.Series(result[revenue][0]).loc[['DISPLAY', 'FEATURE', 'TPR_ONLY']].values\n",
    "    labels = result[df][['DISPLAY', 'FEATURE', 'TPR_ONLY']].iloc[0].values\n",
    "    plt.plot(result[df].PRICE,\n",
    "             result[df].Est_revenues,\n",
    "             label = 'DISPLAY={}, FEATURE={}, TPR_ONLY={}'.format(labels.astype(int).tolist()[0],\n",
    "                                                                 labels.astype(int).tolist()[1],\n",
    "                                                                  labels.astype(int).tolist()[2]))\n",
    "plt.legend()    "
   ]
  },
  {
   "cell_type": "code",
   "execution_count": 58,
   "metadata": {},
   "outputs": [],
   "source": [
    "DF = pd.DataFrame()\n",
    "for df in result:\n",
    "    DF = pd.concat((DF, df))"
   ]
  },
  {
   "cell_type": "code",
   "execution_count": 59,
   "metadata": {},
   "outputs": [],
   "source": [
    "# aplying of advertisment can boost estimated revenue in ~ 4 times"
   ]
  },
  {
   "cell_type": "code",
   "execution_count": 60,
   "metadata": {},
   "outputs": [
    {
     "data": {
      "text/html": [
       "<div>\n",
       "<style scoped>\n",
       "    .dataframe tbody tr th:only-of-type {\n",
       "        vertical-align: middle;\n",
       "    }\n",
       "\n",
       "    .dataframe tbody tr th {\n",
       "        vertical-align: top;\n",
       "    }\n",
       "\n",
       "    .dataframe thead th {\n",
       "        text-align: right;\n",
       "    }\n",
       "</style>\n",
       "<table border=\"1\" class=\"dataframe\">\n",
       "  <thead>\n",
       "    <tr style=\"text-align: right;\">\n",
       "      <th></th>\n",
       "      <th>STORE_NUM</th>\n",
       "      <th>UPC</th>\n",
       "      <th>PRICE</th>\n",
       "      <th>FEATURE</th>\n",
       "      <th>DISPLAY</th>\n",
       "      <th>TPR_ONLY</th>\n",
       "      <th>KY</th>\n",
       "      <th>OH</th>\n",
       "      <th>TX</th>\n",
       "      <th>IN</th>\n",
       "      <th>PRIVATE LABEL</th>\n",
       "      <th>FRITO LAY</th>\n",
       "      <th>SHULTZ</th>\n",
       "      <th>SNYDER S</th>\n",
       "      <th>MKSL</th>\n",
       "      <th>Est_revenues</th>\n",
       "    </tr>\n",
       "  </thead>\n",
       "  <tbody>\n",
       "    <tr>\n",
       "      <th>28</th>\n",
       "      <td>367</td>\n",
       "      <td>1111009477</td>\n",
       "      <td>1.47</td>\n",
       "      <td>1</td>\n",
       "      <td>1</td>\n",
       "      <td>1</td>\n",
       "      <td>0</td>\n",
       "      <td>1</td>\n",
       "      <td>0</td>\n",
       "      <td>0</td>\n",
       "      <td>0</td>\n",
       "      <td>0</td>\n",
       "      <td>1</td>\n",
       "      <td>0</td>\n",
       "      <td>0</td>\n",
       "      <td>88.70031</td>\n",
       "    </tr>\n",
       "  </tbody>\n",
       "</table>\n",
       "</div>"
      ],
      "text/plain": [
       "    STORE_NUM         UPC  PRICE  FEATURE  DISPLAY  TPR_ONLY  KY  OH  TX  IN  \\\n",
       "28        367  1111009477   1.47        1        1         1   0   1   0   0   \n",
       "\n",
       "    PRIVATE LABEL  FRITO LAY  SHULTZ  SNYDER S  MKSL  Est_revenues  \n",
       "28              0          0       1         0     0      88.70031  "
      ]
     },
     "execution_count": 60,
     "metadata": {},
     "output_type": "execute_result"
    }
   ],
   "source": [
    "cols_order =data_to_test.columns.tolist()\n",
    "cols_order.append('Est_revenues')\n",
    "\n",
    "DF[DF.Est_revenues == DF.Est_revenues.max()][cols_order]"
   ]
  },
  {
   "cell_type": "code",
   "execution_count": null,
   "metadata": {},
   "outputs": [],
   "source": []
  }
 ],
 "metadata": {
  "kernelspec": {
   "display_name": "tfdeeplearning",
   "language": "python",
   "name": "tfdeeplearning"
  },
  "language_info": {
   "codemirror_mode": {
    "name": "ipython",
    "version": 3
   },
   "file_extension": ".py",
   "mimetype": "text/x-python",
   "name": "python",
   "nbconvert_exporter": "python",
   "pygments_lexer": "ipython3",
   "version": "3.5.2"
  }
 },
 "nbformat": 4,
 "nbformat_minor": 2
}
