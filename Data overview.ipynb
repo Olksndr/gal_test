{
 "cells": [
  {
   "cell_type": "code",
   "execution_count": null,
   "metadata": {},
   "outputs": [],
   "source": []
  },
  {
   "cell_type": "code",
   "execution_count": 1,
   "metadata": {},
   "outputs": [],
   "source": [
    "import pandas as pd\n",
    "import matplotlib.pyplot as plt"
   ]
  },
  {
   "cell_type": "code",
   "execution_count": 3,
   "metadata": {},
   "outputs": [],
   "source": [
    "transactions = pd.read_csv('/home/olksndr/project/transactions.csv')"
   ]
  },
  {
   "cell_type": "code",
   "execution_count": 4,
   "metadata": {},
   "outputs": [
    {
     "data": {
      "text/plain": [
       "Index(['WEEK_END_DATE', 'STORE_NUM', 'UPC', 'UNITS', 'VISITS', 'HHS', 'SPEND',\n",
       "       'PRICE', 'BASE_PRICE', 'FEATURE', 'DISPLAY', 'TPR_ONLY'],\n",
       "      dtype='object')"
      ]
     },
     "execution_count": 4,
     "metadata": {},
     "output_type": "execute_result"
    }
   ],
   "source": [
    "transactions.columns"
   ]
  },
  {
   "cell_type": "code",
   "execution_count": 5,
   "metadata": {},
   "outputs": [],
   "source": [
    "transactions = transactions.rename(index = str, columns={'PRICE': 'base_price', 'BASE_PRICE': 'price'})"
   ]
  },
  {
   "cell_type": "code",
   "execution_count": 6,
   "metadata": {},
   "outputs": [],
   "source": [
    "transactions = transactions.drop('SPEND', axis = 1)"
   ]
  },
  {
   "cell_type": "code",
   "execution_count": 7,
   "metadata": {},
   "outputs": [],
   "source": [
    "transactions['SPEND'] = transactions['price'] * transactions['UNITS']"
   ]
  },
  {
   "cell_type": "code",
   "execution_count": 8,
   "metadata": {},
   "outputs": [
    {
     "data": {
      "text/html": [
       "<div>\n",
       "<style scoped>\n",
       "    .dataframe tbody tr th:only-of-type {\n",
       "        vertical-align: middle;\n",
       "    }\n",
       "\n",
       "    .dataframe tbody tr th {\n",
       "        vertical-align: top;\n",
       "    }\n",
       "\n",
       "    .dataframe thead th {\n",
       "        text-align: right;\n",
       "    }\n",
       "</style>\n",
       "<table border=\"1\" class=\"dataframe\">\n",
       "  <thead>\n",
       "    <tr style=\"text-align: right;\">\n",
       "      <th></th>\n",
       "      <th>WEEK_END_DATE</th>\n",
       "      <th>STORE_NUM</th>\n",
       "      <th>UPC</th>\n",
       "      <th>UNITS</th>\n",
       "      <th>VISITS</th>\n",
       "      <th>HHS</th>\n",
       "      <th>base_price</th>\n",
       "      <th>price</th>\n",
       "      <th>FEATURE</th>\n",
       "      <th>DISPLAY</th>\n",
       "      <th>TPR_ONLY</th>\n",
       "      <th>SPEND</th>\n",
       "    </tr>\n",
       "  </thead>\n",
       "  <tbody>\n",
       "    <tr>\n",
       "      <th>0</th>\n",
       "      <td>14-Jan-09</td>\n",
       "      <td>367</td>\n",
       "      <td>1111009477</td>\n",
       "      <td>13</td>\n",
       "      <td>13</td>\n",
       "      <td>13</td>\n",
       "      <td>1.39</td>\n",
       "      <td>1.57</td>\n",
       "      <td>0</td>\n",
       "      <td>0</td>\n",
       "      <td>1</td>\n",
       "      <td>20.41</td>\n",
       "    </tr>\n",
       "    <tr>\n",
       "      <th>1</th>\n",
       "      <td>14-Jan-09</td>\n",
       "      <td>367</td>\n",
       "      <td>1111009497</td>\n",
       "      <td>20</td>\n",
       "      <td>18</td>\n",
       "      <td>18</td>\n",
       "      <td>1.39</td>\n",
       "      <td>1.39</td>\n",
       "      <td>0</td>\n",
       "      <td>0</td>\n",
       "      <td>0</td>\n",
       "      <td>27.80</td>\n",
       "    </tr>\n",
       "  </tbody>\n",
       "</table>\n",
       "</div>"
      ],
      "text/plain": [
       "  WEEK_END_DATE  STORE_NUM         UPC  UNITS  VISITS  HHS  base_price  price  \\\n",
       "0     14-Jan-09        367  1111009477     13      13   13        1.39   1.57   \n",
       "1     14-Jan-09        367  1111009497     20      18   18        1.39   1.39   \n",
       "\n",
       "   FEATURE  DISPLAY  TPR_ONLY  SPEND  \n",
       "0        0        0         1  20.41  \n",
       "1        0        0         0  27.80  "
      ]
     },
     "execution_count": 8,
     "metadata": {},
     "output_type": "execute_result"
    }
   ],
   "source": [
    "transactions.head(2)"
   ]
  },
  {
   "cell_type": "code",
   "execution_count": 10,
   "metadata": {},
   "outputs": [],
   "source": [
    "transactions.WEEK_END_DATE = pd.to_datetime(transactions.WEEK_END_DATE)"
   ]
  },
  {
   "cell_type": "code",
   "execution_count": 11,
   "metadata": {},
   "outputs": [],
   "source": [
    "unique_stores = transactions.STORE_NUM.unique()"
   ]
  },
  {
   "cell_type": "code",
   "execution_count": 12,
   "metadata": {},
   "outputs": [],
   "source": [
    "unique_products = transactions.UPC.unique()"
   ]
  },
  {
   "cell_type": "code",
   "execution_count": 13,
   "metadata": {},
   "outputs": [],
   "source": [
    "\n",
    "store_a_prod_a = transactions[(transactions.UPC == unique_products[3]) & (transactions.STORE_NUM == unique_stores[2])]"
   ]
  },
  {
   "cell_type": "code",
   "execution_count": 14,
   "metadata": {
    "scrolled": true
   },
   "outputs": [
    {
     "data": {
      "text/html": [
       "<div>\n",
       "<style scoped>\n",
       "    .dataframe tbody tr th:only-of-type {\n",
       "        vertical-align: middle;\n",
       "    }\n",
       "\n",
       "    .dataframe tbody tr th {\n",
       "        vertical-align: top;\n",
       "    }\n",
       "\n",
       "    .dataframe thead th {\n",
       "        text-align: right;\n",
       "    }\n",
       "</style>\n",
       "<table border=\"1\" class=\"dataframe\">\n",
       "  <thead>\n",
       "    <tr style=\"text-align: right;\">\n",
       "      <th></th>\n",
       "      <th>WEEK_END_DATE</th>\n",
       "      <th>STORE_NUM</th>\n",
       "      <th>UPC</th>\n",
       "      <th>UNITS</th>\n",
       "      <th>VISITS</th>\n",
       "      <th>HHS</th>\n",
       "      <th>base_price</th>\n",
       "      <th>price</th>\n",
       "      <th>FEATURE</th>\n",
       "      <th>DISPLAY</th>\n",
       "      <th>TPR_ONLY</th>\n",
       "      <th>SPEND</th>\n",
       "    </tr>\n",
       "    <tr>\n",
       "      <th>WEEK_END_DATE</th>\n",
       "      <th></th>\n",
       "      <th></th>\n",
       "      <th></th>\n",
       "      <th></th>\n",
       "      <th></th>\n",
       "      <th></th>\n",
       "      <th></th>\n",
       "      <th></th>\n",
       "      <th></th>\n",
       "      <th></th>\n",
       "      <th></th>\n",
       "      <th></th>\n",
       "    </tr>\n",
       "  </thead>\n",
       "  <tbody>\n",
       "    <tr>\n",
       "      <th>2009-01-14</th>\n",
       "      <td>2009-01-14</td>\n",
       "      <td>389</td>\n",
       "      <td>1111035398</td>\n",
       "      <td>4</td>\n",
       "      <td>3</td>\n",
       "      <td>3</td>\n",
       "      <td>3.50</td>\n",
       "      <td>4.49</td>\n",
       "      <td>0</td>\n",
       "      <td>0</td>\n",
       "      <td>1</td>\n",
       "      <td>17.96</td>\n",
       "    </tr>\n",
       "    <tr>\n",
       "      <th>2009-01-21</th>\n",
       "      <td>2009-01-21</td>\n",
       "      <td>389</td>\n",
       "      <td>1111035398</td>\n",
       "      <td>2</td>\n",
       "      <td>2</td>\n",
       "      <td>2</td>\n",
       "      <td>3.33</td>\n",
       "      <td>4.49</td>\n",
       "      <td>0</td>\n",
       "      <td>0</td>\n",
       "      <td>1</td>\n",
       "      <td>8.98</td>\n",
       "    </tr>\n",
       "    <tr>\n",
       "      <th>2009-01-28</th>\n",
       "      <td>2009-01-28</td>\n",
       "      <td>389</td>\n",
       "      <td>1111035398</td>\n",
       "      <td>2</td>\n",
       "      <td>2</td>\n",
       "      <td>2</td>\n",
       "      <td>3.50</td>\n",
       "      <td>4.49</td>\n",
       "      <td>0</td>\n",
       "      <td>0</td>\n",
       "      <td>1</td>\n",
       "      <td>8.98</td>\n",
       "    </tr>\n",
       "    <tr>\n",
       "      <th>2009-02-04</th>\n",
       "      <td>2009-02-04</td>\n",
       "      <td>389</td>\n",
       "      <td>1111035398</td>\n",
       "      <td>7</td>\n",
       "      <td>4</td>\n",
       "      <td>4</td>\n",
       "      <td>3.50</td>\n",
       "      <td>4.49</td>\n",
       "      <td>0</td>\n",
       "      <td>0</td>\n",
       "      <td>1</td>\n",
       "      <td>31.43</td>\n",
       "    </tr>\n",
       "    <tr>\n",
       "      <th>2009-02-11</th>\n",
       "      <td>2009-02-11</td>\n",
       "      <td>389</td>\n",
       "      <td>1111035398</td>\n",
       "      <td>1</td>\n",
       "      <td>1</td>\n",
       "      <td>1</td>\n",
       "      <td>4.49</td>\n",
       "      <td>4.49</td>\n",
       "      <td>0</td>\n",
       "      <td>0</td>\n",
       "      <td>0</td>\n",
       "      <td>4.49</td>\n",
       "    </tr>\n",
       "    <tr>\n",
       "      <th>2009-02-25</th>\n",
       "      <td>2009-02-25</td>\n",
       "      <td>389</td>\n",
       "      <td>1111035398</td>\n",
       "      <td>1</td>\n",
       "      <td>1</td>\n",
       "      <td>1</td>\n",
       "      <td>4.49</td>\n",
       "      <td>4.49</td>\n",
       "      <td>0</td>\n",
       "      <td>0</td>\n",
       "      <td>0</td>\n",
       "      <td>4.49</td>\n",
       "    </tr>\n",
       "    <tr>\n",
       "      <th>2009-03-04</th>\n",
       "      <td>2009-03-04</td>\n",
       "      <td>389</td>\n",
       "      <td>1111035398</td>\n",
       "      <td>2</td>\n",
       "      <td>2</td>\n",
       "      <td>2</td>\n",
       "      <td>4.49</td>\n",
       "      <td>4.49</td>\n",
       "      <td>0</td>\n",
       "      <td>0</td>\n",
       "      <td>0</td>\n",
       "      <td>8.98</td>\n",
       "    </tr>\n",
       "    <tr>\n",
       "      <th>2009-03-11</th>\n",
       "      <td>2009-03-11</td>\n",
       "      <td>389</td>\n",
       "      <td>1111035398</td>\n",
       "      <td>2</td>\n",
       "      <td>2</td>\n",
       "      <td>2</td>\n",
       "      <td>3.99</td>\n",
       "      <td>4.49</td>\n",
       "      <td>0</td>\n",
       "      <td>0</td>\n",
       "      <td>1</td>\n",
       "      <td>8.98</td>\n",
       "    </tr>\n",
       "    <tr>\n",
       "      <th>2009-03-18</th>\n",
       "      <td>2009-03-18</td>\n",
       "      <td>389</td>\n",
       "      <td>1111035398</td>\n",
       "      <td>3</td>\n",
       "      <td>3</td>\n",
       "      <td>3</td>\n",
       "      <td>3.99</td>\n",
       "      <td>4.49</td>\n",
       "      <td>0</td>\n",
       "      <td>0</td>\n",
       "      <td>1</td>\n",
       "      <td>13.47</td>\n",
       "    </tr>\n",
       "    <tr>\n",
       "      <th>2009-03-25</th>\n",
       "      <td>2009-03-25</td>\n",
       "      <td>389</td>\n",
       "      <td>1111035398</td>\n",
       "      <td>2</td>\n",
       "      <td>2</td>\n",
       "      <td>2</td>\n",
       "      <td>3.99</td>\n",
       "      <td>4.49</td>\n",
       "      <td>0</td>\n",
       "      <td>1</td>\n",
       "      <td>0</td>\n",
       "      <td>8.98</td>\n",
       "    </tr>\n",
       "    <tr>\n",
       "      <th>2009-04-01</th>\n",
       "      <td>2009-04-01</td>\n",
       "      <td>389</td>\n",
       "      <td>1111035398</td>\n",
       "      <td>1</td>\n",
       "      <td>1</td>\n",
       "      <td>1</td>\n",
       "      <td>3.59</td>\n",
       "      <td>4.49</td>\n",
       "      <td>0</td>\n",
       "      <td>1</td>\n",
       "      <td>0</td>\n",
       "      <td>4.49</td>\n",
       "    </tr>\n",
       "    <tr>\n",
       "      <th>2009-04-15</th>\n",
       "      <td>2009-04-15</td>\n",
       "      <td>389</td>\n",
       "      <td>1111035398</td>\n",
       "      <td>1</td>\n",
       "      <td>1</td>\n",
       "      <td>1</td>\n",
       "      <td>4.49</td>\n",
       "      <td>4.49</td>\n",
       "      <td>0</td>\n",
       "      <td>1</td>\n",
       "      <td>0</td>\n",
       "      <td>4.49</td>\n",
       "    </tr>\n",
       "    <tr>\n",
       "      <th>2009-04-22</th>\n",
       "      <td>2009-04-22</td>\n",
       "      <td>389</td>\n",
       "      <td>1111035398</td>\n",
       "      <td>1</td>\n",
       "      <td>1</td>\n",
       "      <td>1</td>\n",
       "      <td>4.49</td>\n",
       "      <td>4.49</td>\n",
       "      <td>0</td>\n",
       "      <td>1</td>\n",
       "      <td>0</td>\n",
       "      <td>4.49</td>\n",
       "    </tr>\n",
       "    <tr>\n",
       "      <th>2009-05-06</th>\n",
       "      <td>2009-05-06</td>\n",
       "      <td>389</td>\n",
       "      <td>1111035398</td>\n",
       "      <td>1</td>\n",
       "      <td>1</td>\n",
       "      <td>1</td>\n",
       "      <td>4.04</td>\n",
       "      <td>4.49</td>\n",
       "      <td>0</td>\n",
       "      <td>0</td>\n",
       "      <td>1</td>\n",
       "      <td>4.49</td>\n",
       "    </tr>\n",
       "    <tr>\n",
       "      <th>2009-05-13</th>\n",
       "      <td>2009-05-13</td>\n",
       "      <td>389</td>\n",
       "      <td>1111035398</td>\n",
       "      <td>1</td>\n",
       "      <td>1</td>\n",
       "      <td>1</td>\n",
       "      <td>4.49</td>\n",
       "      <td>4.49</td>\n",
       "      <td>0</td>\n",
       "      <td>0</td>\n",
       "      <td>0</td>\n",
       "      <td>4.49</td>\n",
       "    </tr>\n",
       "    <tr>\n",
       "      <th>2009-05-20</th>\n",
       "      <td>2009-05-20</td>\n",
       "      <td>389</td>\n",
       "      <td>1111035398</td>\n",
       "      <td>1</td>\n",
       "      <td>1</td>\n",
       "      <td>1</td>\n",
       "      <td>4.49</td>\n",
       "      <td>4.49</td>\n",
       "      <td>0</td>\n",
       "      <td>0</td>\n",
       "      <td>0</td>\n",
       "      <td>4.49</td>\n",
       "    </tr>\n",
       "    <tr>\n",
       "      <th>2009-05-27</th>\n",
       "      <td>2009-05-27</td>\n",
       "      <td>389</td>\n",
       "      <td>1111035398</td>\n",
       "      <td>1</td>\n",
       "      <td>1</td>\n",
       "      <td>1</td>\n",
       "      <td>4.49</td>\n",
       "      <td>4.49</td>\n",
       "      <td>0</td>\n",
       "      <td>0</td>\n",
       "      <td>0</td>\n",
       "      <td>4.49</td>\n",
       "    </tr>\n",
       "    <tr>\n",
       "      <th>2009-06-03</th>\n",
       "      <td>2009-06-03</td>\n",
       "      <td>389</td>\n",
       "      <td>1111035398</td>\n",
       "      <td>10</td>\n",
       "      <td>10</td>\n",
       "      <td>10</td>\n",
       "      <td>3.32</td>\n",
       "      <td>4.49</td>\n",
       "      <td>0</td>\n",
       "      <td>0</td>\n",
       "      <td>1</td>\n",
       "      <td>44.90</td>\n",
       "    </tr>\n",
       "    <tr>\n",
       "      <th>2009-06-10</th>\n",
       "      <td>2009-06-10</td>\n",
       "      <td>389</td>\n",
       "      <td>1111035398</td>\n",
       "      <td>3</td>\n",
       "      <td>3</td>\n",
       "      <td>3</td>\n",
       "      <td>3.06</td>\n",
       "      <td>4.49</td>\n",
       "      <td>0</td>\n",
       "      <td>1</td>\n",
       "      <td>0</td>\n",
       "      <td>13.47</td>\n",
       "    </tr>\n",
       "    <tr>\n",
       "      <th>2009-06-17</th>\n",
       "      <td>2009-06-17</td>\n",
       "      <td>389</td>\n",
       "      <td>1111035398</td>\n",
       "      <td>3</td>\n",
       "      <td>2</td>\n",
       "      <td>2</td>\n",
       "      <td>3.06</td>\n",
       "      <td>4.49</td>\n",
       "      <td>0</td>\n",
       "      <td>0</td>\n",
       "      <td>1</td>\n",
       "      <td>13.47</td>\n",
       "    </tr>\n",
       "    <tr>\n",
       "      <th>2009-06-24</th>\n",
       "      <td>2009-06-24</td>\n",
       "      <td>389</td>\n",
       "      <td>1111035398</td>\n",
       "      <td>3</td>\n",
       "      <td>3</td>\n",
       "      <td>3</td>\n",
       "      <td>3.06</td>\n",
       "      <td>4.49</td>\n",
       "      <td>0</td>\n",
       "      <td>0</td>\n",
       "      <td>1</td>\n",
       "      <td>13.47</td>\n",
       "    </tr>\n",
       "    <tr>\n",
       "      <th>2009-07-01</th>\n",
       "      <td>2009-07-01</td>\n",
       "      <td>389</td>\n",
       "      <td>1111035398</td>\n",
       "      <td>4</td>\n",
       "      <td>3</td>\n",
       "      <td>3</td>\n",
       "      <td>3.06</td>\n",
       "      <td>4.49</td>\n",
       "      <td>0</td>\n",
       "      <td>1</td>\n",
       "      <td>0</td>\n",
       "      <td>17.96</td>\n",
       "    </tr>\n",
       "    <tr>\n",
       "      <th>2009-07-08</th>\n",
       "      <td>2009-07-08</td>\n",
       "      <td>389</td>\n",
       "      <td>1111035398</td>\n",
       "      <td>2</td>\n",
       "      <td>2</td>\n",
       "      <td>2</td>\n",
       "      <td>3.06</td>\n",
       "      <td>4.49</td>\n",
       "      <td>0</td>\n",
       "      <td>1</td>\n",
       "      <td>0</td>\n",
       "      <td>8.98</td>\n",
       "    </tr>\n",
       "    <tr>\n",
       "      <th>2009-07-15</th>\n",
       "      <td>2009-07-15</td>\n",
       "      <td>389</td>\n",
       "      <td>1111035398</td>\n",
       "      <td>4</td>\n",
       "      <td>4</td>\n",
       "      <td>4</td>\n",
       "      <td>3.06</td>\n",
       "      <td>4.49</td>\n",
       "      <td>0</td>\n",
       "      <td>1</td>\n",
       "      <td>0</td>\n",
       "      <td>17.96</td>\n",
       "    </tr>\n",
       "    <tr>\n",
       "      <th>2009-07-22</th>\n",
       "      <td>2009-07-22</td>\n",
       "      <td>389</td>\n",
       "      <td>1111035398</td>\n",
       "      <td>2</td>\n",
       "      <td>2</td>\n",
       "      <td>2</td>\n",
       "      <td>3.00</td>\n",
       "      <td>4.49</td>\n",
       "      <td>0</td>\n",
       "      <td>0</td>\n",
       "      <td>1</td>\n",
       "      <td>8.98</td>\n",
       "    </tr>\n",
       "    <tr>\n",
       "      <th>2009-07-29</th>\n",
       "      <td>2009-07-29</td>\n",
       "      <td>389</td>\n",
       "      <td>1111035398</td>\n",
       "      <td>3</td>\n",
       "      <td>3</td>\n",
       "      <td>3</td>\n",
       "      <td>3.02</td>\n",
       "      <td>4.49</td>\n",
       "      <td>0</td>\n",
       "      <td>0</td>\n",
       "      <td>1</td>\n",
       "      <td>13.47</td>\n",
       "    </tr>\n",
       "    <tr>\n",
       "      <th>2009-08-05</th>\n",
       "      <td>2009-08-05</td>\n",
       "      <td>389</td>\n",
       "      <td>1111035398</td>\n",
       "      <td>2</td>\n",
       "      <td>2</td>\n",
       "      <td>2</td>\n",
       "      <td>3.00</td>\n",
       "      <td>4.49</td>\n",
       "      <td>0</td>\n",
       "      <td>0</td>\n",
       "      <td>1</td>\n",
       "      <td>8.98</td>\n",
       "    </tr>\n",
       "    <tr>\n",
       "      <th>2009-08-12</th>\n",
       "      <td>2009-08-12</td>\n",
       "      <td>389</td>\n",
       "      <td>1111035398</td>\n",
       "      <td>3</td>\n",
       "      <td>3</td>\n",
       "      <td>3</td>\n",
       "      <td>3.02</td>\n",
       "      <td>3.02</td>\n",
       "      <td>0</td>\n",
       "      <td>0</td>\n",
       "      <td>0</td>\n",
       "      <td>9.06</td>\n",
       "    </tr>\n",
       "    <tr>\n",
       "      <th>2009-08-19</th>\n",
       "      <td>2009-08-19</td>\n",
       "      <td>389</td>\n",
       "      <td>1111035398</td>\n",
       "      <td>4</td>\n",
       "      <td>4</td>\n",
       "      <td>4</td>\n",
       "      <td>2.94</td>\n",
       "      <td>2.94</td>\n",
       "      <td>0</td>\n",
       "      <td>0</td>\n",
       "      <td>0</td>\n",
       "      <td>11.76</td>\n",
       "    </tr>\n",
       "    <tr>\n",
       "      <th>2009-08-26</th>\n",
       "      <td>2009-08-26</td>\n",
       "      <td>389</td>\n",
       "      <td>1111035398</td>\n",
       "      <td>1</td>\n",
       "      <td>1</td>\n",
       "      <td>1</td>\n",
       "      <td>3.06</td>\n",
       "      <td>3.06</td>\n",
       "      <td>0</td>\n",
       "      <td>0</td>\n",
       "      <td>0</td>\n",
       "      <td>3.06</td>\n",
       "    </tr>\n",
       "    <tr>\n",
       "      <th>...</th>\n",
       "      <td>...</td>\n",
       "      <td>...</td>\n",
       "      <td>...</td>\n",
       "      <td>...</td>\n",
       "      <td>...</td>\n",
       "      <td>...</td>\n",
       "      <td>...</td>\n",
       "      <td>...</td>\n",
       "      <td>...</td>\n",
       "      <td>...</td>\n",
       "      <td>...</td>\n",
       "      <td>...</td>\n",
       "    </tr>\n",
       "    <tr>\n",
       "      <th>2011-06-08</th>\n",
       "      <td>2011-06-08</td>\n",
       "      <td>389</td>\n",
       "      <td>1111035398</td>\n",
       "      <td>5</td>\n",
       "      <td>5</td>\n",
       "      <td>5</td>\n",
       "      <td>3.05</td>\n",
       "      <td>3.05</td>\n",
       "      <td>0</td>\n",
       "      <td>0</td>\n",
       "      <td>0</td>\n",
       "      <td>15.25</td>\n",
       "    </tr>\n",
       "    <tr>\n",
       "      <th>2011-06-15</th>\n",
       "      <td>2011-06-15</td>\n",
       "      <td>389</td>\n",
       "      <td>1111035398</td>\n",
       "      <td>4</td>\n",
       "      <td>4</td>\n",
       "      <td>4</td>\n",
       "      <td>3.19</td>\n",
       "      <td>3.19</td>\n",
       "      <td>0</td>\n",
       "      <td>0</td>\n",
       "      <td>0</td>\n",
       "      <td>12.76</td>\n",
       "    </tr>\n",
       "    <tr>\n",
       "      <th>2011-06-22</th>\n",
       "      <td>2011-06-22</td>\n",
       "      <td>389</td>\n",
       "      <td>1111035398</td>\n",
       "      <td>4</td>\n",
       "      <td>4</td>\n",
       "      <td>4</td>\n",
       "      <td>2.99</td>\n",
       "      <td>2.99</td>\n",
       "      <td>0</td>\n",
       "      <td>0</td>\n",
       "      <td>0</td>\n",
       "      <td>11.96</td>\n",
       "    </tr>\n",
       "    <tr>\n",
       "      <th>2011-06-29</th>\n",
       "      <td>2011-06-29</td>\n",
       "      <td>389</td>\n",
       "      <td>1111035398</td>\n",
       "      <td>8</td>\n",
       "      <td>8</td>\n",
       "      <td>8</td>\n",
       "      <td>2.95</td>\n",
       "      <td>2.95</td>\n",
       "      <td>0</td>\n",
       "      <td>0</td>\n",
       "      <td>0</td>\n",
       "      <td>23.60</td>\n",
       "    </tr>\n",
       "    <tr>\n",
       "      <th>2011-07-06</th>\n",
       "      <td>2011-07-06</td>\n",
       "      <td>389</td>\n",
       "      <td>1111035398</td>\n",
       "      <td>5</td>\n",
       "      <td>5</td>\n",
       "      <td>5</td>\n",
       "      <td>3.16</td>\n",
       "      <td>3.16</td>\n",
       "      <td>0</td>\n",
       "      <td>0</td>\n",
       "      <td>0</td>\n",
       "      <td>15.80</td>\n",
       "    </tr>\n",
       "    <tr>\n",
       "      <th>2011-07-13</th>\n",
       "      <td>2011-07-13</td>\n",
       "      <td>389</td>\n",
       "      <td>1111035398</td>\n",
       "      <td>4</td>\n",
       "      <td>4</td>\n",
       "      <td>4</td>\n",
       "      <td>3.29</td>\n",
       "      <td>3.29</td>\n",
       "      <td>0</td>\n",
       "      <td>0</td>\n",
       "      <td>0</td>\n",
       "      <td>13.16</td>\n",
       "    </tr>\n",
       "    <tr>\n",
       "      <th>2011-07-20</th>\n",
       "      <td>2011-07-20</td>\n",
       "      <td>389</td>\n",
       "      <td>1111035398</td>\n",
       "      <td>3</td>\n",
       "      <td>3</td>\n",
       "      <td>3</td>\n",
       "      <td>3.29</td>\n",
       "      <td>3.29</td>\n",
       "      <td>0</td>\n",
       "      <td>0</td>\n",
       "      <td>0</td>\n",
       "      <td>9.87</td>\n",
       "    </tr>\n",
       "    <tr>\n",
       "      <th>2011-07-27</th>\n",
       "      <td>2011-07-27</td>\n",
       "      <td>389</td>\n",
       "      <td>1111035398</td>\n",
       "      <td>2</td>\n",
       "      <td>2</td>\n",
       "      <td>2</td>\n",
       "      <td>3.29</td>\n",
       "      <td>3.29</td>\n",
       "      <td>0</td>\n",
       "      <td>0</td>\n",
       "      <td>0</td>\n",
       "      <td>6.58</td>\n",
       "    </tr>\n",
       "    <tr>\n",
       "      <th>2011-08-03</th>\n",
       "      <td>2011-08-03</td>\n",
       "      <td>389</td>\n",
       "      <td>1111035398</td>\n",
       "      <td>1</td>\n",
       "      <td>1</td>\n",
       "      <td>1</td>\n",
       "      <td>3.29</td>\n",
       "      <td>3.29</td>\n",
       "      <td>0</td>\n",
       "      <td>0</td>\n",
       "      <td>0</td>\n",
       "      <td>3.29</td>\n",
       "    </tr>\n",
       "    <tr>\n",
       "      <th>2011-08-10</th>\n",
       "      <td>2011-08-10</td>\n",
       "      <td>389</td>\n",
       "      <td>1111035398</td>\n",
       "      <td>3</td>\n",
       "      <td>3</td>\n",
       "      <td>3</td>\n",
       "      <td>3.29</td>\n",
       "      <td>3.29</td>\n",
       "      <td>0</td>\n",
       "      <td>0</td>\n",
       "      <td>0</td>\n",
       "      <td>9.87</td>\n",
       "    </tr>\n",
       "    <tr>\n",
       "      <th>2011-08-17</th>\n",
       "      <td>2011-08-17</td>\n",
       "      <td>389</td>\n",
       "      <td>1111035398</td>\n",
       "      <td>1</td>\n",
       "      <td>1</td>\n",
       "      <td>1</td>\n",
       "      <td>3.29</td>\n",
       "      <td>3.29</td>\n",
       "      <td>0</td>\n",
       "      <td>0</td>\n",
       "      <td>0</td>\n",
       "      <td>3.29</td>\n",
       "    </tr>\n",
       "    <tr>\n",
       "      <th>2011-08-24</th>\n",
       "      <td>2011-08-24</td>\n",
       "      <td>389</td>\n",
       "      <td>1111035398</td>\n",
       "      <td>4</td>\n",
       "      <td>4</td>\n",
       "      <td>4</td>\n",
       "      <td>3.13</td>\n",
       "      <td>3.13</td>\n",
       "      <td>0</td>\n",
       "      <td>0</td>\n",
       "      <td>0</td>\n",
       "      <td>12.52</td>\n",
       "    </tr>\n",
       "    <tr>\n",
       "      <th>2011-08-31</th>\n",
       "      <td>2011-08-31</td>\n",
       "      <td>389</td>\n",
       "      <td>1111035398</td>\n",
       "      <td>3</td>\n",
       "      <td>3</td>\n",
       "      <td>3</td>\n",
       "      <td>3.29</td>\n",
       "      <td>3.29</td>\n",
       "      <td>0</td>\n",
       "      <td>0</td>\n",
       "      <td>0</td>\n",
       "      <td>9.87</td>\n",
       "    </tr>\n",
       "    <tr>\n",
       "      <th>2011-09-07</th>\n",
       "      <td>2011-09-07</td>\n",
       "      <td>389</td>\n",
       "      <td>1111035398</td>\n",
       "      <td>5</td>\n",
       "      <td>5</td>\n",
       "      <td>5</td>\n",
       "      <td>2.99</td>\n",
       "      <td>2.99</td>\n",
       "      <td>0</td>\n",
       "      <td>0</td>\n",
       "      <td>0</td>\n",
       "      <td>14.95</td>\n",
       "    </tr>\n",
       "    <tr>\n",
       "      <th>2011-09-14</th>\n",
       "      <td>2011-09-14</td>\n",
       "      <td>389</td>\n",
       "      <td>1111035398</td>\n",
       "      <td>5</td>\n",
       "      <td>5</td>\n",
       "      <td>5</td>\n",
       "      <td>2.87</td>\n",
       "      <td>2.87</td>\n",
       "      <td>0</td>\n",
       "      <td>0</td>\n",
       "      <td>0</td>\n",
       "      <td>14.35</td>\n",
       "    </tr>\n",
       "    <tr>\n",
       "      <th>2011-09-21</th>\n",
       "      <td>2011-09-21</td>\n",
       "      <td>389</td>\n",
       "      <td>1111035398</td>\n",
       "      <td>3</td>\n",
       "      <td>3</td>\n",
       "      <td>3</td>\n",
       "      <td>2.99</td>\n",
       "      <td>2.99</td>\n",
       "      <td>0</td>\n",
       "      <td>0</td>\n",
       "      <td>0</td>\n",
       "      <td>8.97</td>\n",
       "    </tr>\n",
       "    <tr>\n",
       "      <th>2011-09-28</th>\n",
       "      <td>2011-09-28</td>\n",
       "      <td>389</td>\n",
       "      <td>1111035398</td>\n",
       "      <td>2</td>\n",
       "      <td>2</td>\n",
       "      <td>2</td>\n",
       "      <td>2.99</td>\n",
       "      <td>2.99</td>\n",
       "      <td>0</td>\n",
       "      <td>0</td>\n",
       "      <td>0</td>\n",
       "      <td>5.98</td>\n",
       "    </tr>\n",
       "    <tr>\n",
       "      <th>2011-10-05</th>\n",
       "      <td>2011-10-05</td>\n",
       "      <td>389</td>\n",
       "      <td>1111035398</td>\n",
       "      <td>8</td>\n",
       "      <td>8</td>\n",
       "      <td>8</td>\n",
       "      <td>2.99</td>\n",
       "      <td>2.99</td>\n",
       "      <td>0</td>\n",
       "      <td>0</td>\n",
       "      <td>0</td>\n",
       "      <td>23.92</td>\n",
       "    </tr>\n",
       "    <tr>\n",
       "      <th>2011-10-12</th>\n",
       "      <td>2011-10-12</td>\n",
       "      <td>389</td>\n",
       "      <td>1111035398</td>\n",
       "      <td>7</td>\n",
       "      <td>7</td>\n",
       "      <td>7</td>\n",
       "      <td>2.90</td>\n",
       "      <td>2.90</td>\n",
       "      <td>0</td>\n",
       "      <td>0</td>\n",
       "      <td>0</td>\n",
       "      <td>20.30</td>\n",
       "    </tr>\n",
       "    <tr>\n",
       "      <th>2011-10-19</th>\n",
       "      <td>2011-10-19</td>\n",
       "      <td>389</td>\n",
       "      <td>1111035398</td>\n",
       "      <td>9</td>\n",
       "      <td>9</td>\n",
       "      <td>9</td>\n",
       "      <td>2.96</td>\n",
       "      <td>2.96</td>\n",
       "      <td>0</td>\n",
       "      <td>0</td>\n",
       "      <td>0</td>\n",
       "      <td>26.64</td>\n",
       "    </tr>\n",
       "    <tr>\n",
       "      <th>2011-10-26</th>\n",
       "      <td>2011-10-26</td>\n",
       "      <td>389</td>\n",
       "      <td>1111035398</td>\n",
       "      <td>3</td>\n",
       "      <td>3</td>\n",
       "      <td>3</td>\n",
       "      <td>2.99</td>\n",
       "      <td>2.99</td>\n",
       "      <td>0</td>\n",
       "      <td>0</td>\n",
       "      <td>0</td>\n",
       "      <td>8.97</td>\n",
       "    </tr>\n",
       "    <tr>\n",
       "      <th>2011-11-02</th>\n",
       "      <td>2011-11-02</td>\n",
       "      <td>389</td>\n",
       "      <td>1111035398</td>\n",
       "      <td>3</td>\n",
       "      <td>3</td>\n",
       "      <td>3</td>\n",
       "      <td>2.99</td>\n",
       "      <td>2.99</td>\n",
       "      <td>0</td>\n",
       "      <td>0</td>\n",
       "      <td>0</td>\n",
       "      <td>8.97</td>\n",
       "    </tr>\n",
       "    <tr>\n",
       "      <th>2011-11-16</th>\n",
       "      <td>2011-11-16</td>\n",
       "      <td>389</td>\n",
       "      <td>1111035398</td>\n",
       "      <td>3</td>\n",
       "      <td>3</td>\n",
       "      <td>3</td>\n",
       "      <td>2.72</td>\n",
       "      <td>2.72</td>\n",
       "      <td>0</td>\n",
       "      <td>0</td>\n",
       "      <td>0</td>\n",
       "      <td>8.16</td>\n",
       "    </tr>\n",
       "    <tr>\n",
       "      <th>2011-11-23</th>\n",
       "      <td>2011-11-23</td>\n",
       "      <td>389</td>\n",
       "      <td>1111035398</td>\n",
       "      <td>5</td>\n",
       "      <td>5</td>\n",
       "      <td>5</td>\n",
       "      <td>2.83</td>\n",
       "      <td>2.83</td>\n",
       "      <td>0</td>\n",
       "      <td>0</td>\n",
       "      <td>0</td>\n",
       "      <td>14.15</td>\n",
       "    </tr>\n",
       "    <tr>\n",
       "      <th>2011-11-30</th>\n",
       "      <td>2011-11-30</td>\n",
       "      <td>389</td>\n",
       "      <td>1111035398</td>\n",
       "      <td>7</td>\n",
       "      <td>6</td>\n",
       "      <td>6</td>\n",
       "      <td>2.56</td>\n",
       "      <td>2.56</td>\n",
       "      <td>0</td>\n",
       "      <td>0</td>\n",
       "      <td>0</td>\n",
       "      <td>17.92</td>\n",
       "    </tr>\n",
       "    <tr>\n",
       "      <th>2011-12-07</th>\n",
       "      <td>2011-12-07</td>\n",
       "      <td>389</td>\n",
       "      <td>1111035398</td>\n",
       "      <td>6</td>\n",
       "      <td>6</td>\n",
       "      <td>6</td>\n",
       "      <td>2.94</td>\n",
       "      <td>2.56</td>\n",
       "      <td>0</td>\n",
       "      <td>1</td>\n",
       "      <td>0</td>\n",
       "      <td>15.36</td>\n",
       "    </tr>\n",
       "    <tr>\n",
       "      <th>2011-12-14</th>\n",
       "      <td>2011-12-14</td>\n",
       "      <td>389</td>\n",
       "      <td>1111035398</td>\n",
       "      <td>7</td>\n",
       "      <td>7</td>\n",
       "      <td>7</td>\n",
       "      <td>2.99</td>\n",
       "      <td>2.99</td>\n",
       "      <td>0</td>\n",
       "      <td>0</td>\n",
       "      <td>0</td>\n",
       "      <td>20.93</td>\n",
       "    </tr>\n",
       "    <tr>\n",
       "      <th>2011-12-21</th>\n",
       "      <td>2011-12-21</td>\n",
       "      <td>389</td>\n",
       "      <td>1111035398</td>\n",
       "      <td>4</td>\n",
       "      <td>4</td>\n",
       "      <td>4</td>\n",
       "      <td>2.62</td>\n",
       "      <td>2.99</td>\n",
       "      <td>0</td>\n",
       "      <td>0</td>\n",
       "      <td>1</td>\n",
       "      <td>11.96</td>\n",
       "    </tr>\n",
       "    <tr>\n",
       "      <th>2011-12-28</th>\n",
       "      <td>2011-12-28</td>\n",
       "      <td>389</td>\n",
       "      <td>1111035398</td>\n",
       "      <td>3</td>\n",
       "      <td>3</td>\n",
       "      <td>3</td>\n",
       "      <td>2.62</td>\n",
       "      <td>2.99</td>\n",
       "      <td>0</td>\n",
       "      <td>0</td>\n",
       "      <td>1</td>\n",
       "      <td>8.97</td>\n",
       "    </tr>\n",
       "    <tr>\n",
       "      <th>2012-01-04</th>\n",
       "      <td>2012-01-04</td>\n",
       "      <td>389</td>\n",
       "      <td>1111035398</td>\n",
       "      <td>4</td>\n",
       "      <td>4</td>\n",
       "      <td>4</td>\n",
       "      <td>2.99</td>\n",
       "      <td>2.99</td>\n",
       "      <td>0</td>\n",
       "      <td>0</td>\n",
       "      <td>0</td>\n",
       "      <td>11.96</td>\n",
       "    </tr>\n",
       "  </tbody>\n",
       "</table>\n",
       "<p>148 rows × 12 columns</p>\n",
       "</div>"
      ],
      "text/plain": [
       "              WEEK_END_DATE  STORE_NUM         UPC  UNITS  VISITS  HHS  \\\n",
       "WEEK_END_DATE                                                            \n",
       "2009-01-14       2009-01-14        389  1111035398      4       3    3   \n",
       "2009-01-21       2009-01-21        389  1111035398      2       2    2   \n",
       "2009-01-28       2009-01-28        389  1111035398      2       2    2   \n",
       "2009-02-04       2009-02-04        389  1111035398      7       4    4   \n",
       "2009-02-11       2009-02-11        389  1111035398      1       1    1   \n",
       "2009-02-25       2009-02-25        389  1111035398      1       1    1   \n",
       "2009-03-04       2009-03-04        389  1111035398      2       2    2   \n",
       "2009-03-11       2009-03-11        389  1111035398      2       2    2   \n",
       "2009-03-18       2009-03-18        389  1111035398      3       3    3   \n",
       "2009-03-25       2009-03-25        389  1111035398      2       2    2   \n",
       "2009-04-01       2009-04-01        389  1111035398      1       1    1   \n",
       "2009-04-15       2009-04-15        389  1111035398      1       1    1   \n",
       "2009-04-22       2009-04-22        389  1111035398      1       1    1   \n",
       "2009-05-06       2009-05-06        389  1111035398      1       1    1   \n",
       "2009-05-13       2009-05-13        389  1111035398      1       1    1   \n",
       "2009-05-20       2009-05-20        389  1111035398      1       1    1   \n",
       "2009-05-27       2009-05-27        389  1111035398      1       1    1   \n",
       "2009-06-03       2009-06-03        389  1111035398     10      10   10   \n",
       "2009-06-10       2009-06-10        389  1111035398      3       3    3   \n",
       "2009-06-17       2009-06-17        389  1111035398      3       2    2   \n",
       "2009-06-24       2009-06-24        389  1111035398      3       3    3   \n",
       "2009-07-01       2009-07-01        389  1111035398      4       3    3   \n",
       "2009-07-08       2009-07-08        389  1111035398      2       2    2   \n",
       "2009-07-15       2009-07-15        389  1111035398      4       4    4   \n",
       "2009-07-22       2009-07-22        389  1111035398      2       2    2   \n",
       "2009-07-29       2009-07-29        389  1111035398      3       3    3   \n",
       "2009-08-05       2009-08-05        389  1111035398      2       2    2   \n",
       "2009-08-12       2009-08-12        389  1111035398      3       3    3   \n",
       "2009-08-19       2009-08-19        389  1111035398      4       4    4   \n",
       "2009-08-26       2009-08-26        389  1111035398      1       1    1   \n",
       "...                     ...        ...         ...    ...     ...  ...   \n",
       "2011-06-08       2011-06-08        389  1111035398      5       5    5   \n",
       "2011-06-15       2011-06-15        389  1111035398      4       4    4   \n",
       "2011-06-22       2011-06-22        389  1111035398      4       4    4   \n",
       "2011-06-29       2011-06-29        389  1111035398      8       8    8   \n",
       "2011-07-06       2011-07-06        389  1111035398      5       5    5   \n",
       "2011-07-13       2011-07-13        389  1111035398      4       4    4   \n",
       "2011-07-20       2011-07-20        389  1111035398      3       3    3   \n",
       "2011-07-27       2011-07-27        389  1111035398      2       2    2   \n",
       "2011-08-03       2011-08-03        389  1111035398      1       1    1   \n",
       "2011-08-10       2011-08-10        389  1111035398      3       3    3   \n",
       "2011-08-17       2011-08-17        389  1111035398      1       1    1   \n",
       "2011-08-24       2011-08-24        389  1111035398      4       4    4   \n",
       "2011-08-31       2011-08-31        389  1111035398      3       3    3   \n",
       "2011-09-07       2011-09-07        389  1111035398      5       5    5   \n",
       "2011-09-14       2011-09-14        389  1111035398      5       5    5   \n",
       "2011-09-21       2011-09-21        389  1111035398      3       3    3   \n",
       "2011-09-28       2011-09-28        389  1111035398      2       2    2   \n",
       "2011-10-05       2011-10-05        389  1111035398      8       8    8   \n",
       "2011-10-12       2011-10-12        389  1111035398      7       7    7   \n",
       "2011-10-19       2011-10-19        389  1111035398      9       9    9   \n",
       "2011-10-26       2011-10-26        389  1111035398      3       3    3   \n",
       "2011-11-02       2011-11-02        389  1111035398      3       3    3   \n",
       "2011-11-16       2011-11-16        389  1111035398      3       3    3   \n",
       "2011-11-23       2011-11-23        389  1111035398      5       5    5   \n",
       "2011-11-30       2011-11-30        389  1111035398      7       6    6   \n",
       "2011-12-07       2011-12-07        389  1111035398      6       6    6   \n",
       "2011-12-14       2011-12-14        389  1111035398      7       7    7   \n",
       "2011-12-21       2011-12-21        389  1111035398      4       4    4   \n",
       "2011-12-28       2011-12-28        389  1111035398      3       3    3   \n",
       "2012-01-04       2012-01-04        389  1111035398      4       4    4   \n",
       "\n",
       "               base_price  price  FEATURE  DISPLAY  TPR_ONLY  SPEND  \n",
       "WEEK_END_DATE                                                        \n",
       "2009-01-14           3.50   4.49        0        0         1  17.96  \n",
       "2009-01-21           3.33   4.49        0        0         1   8.98  \n",
       "2009-01-28           3.50   4.49        0        0         1   8.98  \n",
       "2009-02-04           3.50   4.49        0        0         1  31.43  \n",
       "2009-02-11           4.49   4.49        0        0         0   4.49  \n",
       "2009-02-25           4.49   4.49        0        0         0   4.49  \n",
       "2009-03-04           4.49   4.49        0        0         0   8.98  \n",
       "2009-03-11           3.99   4.49        0        0         1   8.98  \n",
       "2009-03-18           3.99   4.49        0        0         1  13.47  \n",
       "2009-03-25           3.99   4.49        0        1         0   8.98  \n",
       "2009-04-01           3.59   4.49        0        1         0   4.49  \n",
       "2009-04-15           4.49   4.49        0        1         0   4.49  \n",
       "2009-04-22           4.49   4.49        0        1         0   4.49  \n",
       "2009-05-06           4.04   4.49        0        0         1   4.49  \n",
       "2009-05-13           4.49   4.49        0        0         0   4.49  \n",
       "2009-05-20           4.49   4.49        0        0         0   4.49  \n",
       "2009-05-27           4.49   4.49        0        0         0   4.49  \n",
       "2009-06-03           3.32   4.49        0        0         1  44.90  \n",
       "2009-06-10           3.06   4.49        0        1         0  13.47  \n",
       "2009-06-17           3.06   4.49        0        0         1  13.47  \n",
       "2009-06-24           3.06   4.49        0        0         1  13.47  \n",
       "2009-07-01           3.06   4.49        0        1         0  17.96  \n",
       "2009-07-08           3.06   4.49        0        1         0   8.98  \n",
       "2009-07-15           3.06   4.49        0        1         0  17.96  \n",
       "2009-07-22           3.00   4.49        0        0         1   8.98  \n",
       "2009-07-29           3.02   4.49        0        0         1  13.47  \n",
       "2009-08-05           3.00   4.49        0        0         1   8.98  \n",
       "2009-08-12           3.02   3.02        0        0         0   9.06  \n",
       "2009-08-19           2.94   2.94        0        0         0  11.76  \n",
       "2009-08-26           3.06   3.06        0        0         0   3.06  \n",
       "...                   ...    ...      ...      ...       ...    ...  \n",
       "2011-06-08           3.05   3.05        0        0         0  15.25  \n",
       "2011-06-15           3.19   3.19        0        0         0  12.76  \n",
       "2011-06-22           2.99   2.99        0        0         0  11.96  \n",
       "2011-06-29           2.95   2.95        0        0         0  23.60  \n",
       "2011-07-06           3.16   3.16        0        0         0  15.80  \n",
       "2011-07-13           3.29   3.29        0        0         0  13.16  \n",
       "2011-07-20           3.29   3.29        0        0         0   9.87  \n",
       "2011-07-27           3.29   3.29        0        0         0   6.58  \n",
       "2011-08-03           3.29   3.29        0        0         0   3.29  \n",
       "2011-08-10           3.29   3.29        0        0         0   9.87  \n",
       "2011-08-17           3.29   3.29        0        0         0   3.29  \n",
       "2011-08-24           3.13   3.13        0        0         0  12.52  \n",
       "2011-08-31           3.29   3.29        0        0         0   9.87  \n",
       "2011-09-07           2.99   2.99        0        0         0  14.95  \n",
       "2011-09-14           2.87   2.87        0        0         0  14.35  \n",
       "2011-09-21           2.99   2.99        0        0         0   8.97  \n",
       "2011-09-28           2.99   2.99        0        0         0   5.98  \n",
       "2011-10-05           2.99   2.99        0        0         0  23.92  \n",
       "2011-10-12           2.90   2.90        0        0         0  20.30  \n",
       "2011-10-19           2.96   2.96        0        0         0  26.64  \n",
       "2011-10-26           2.99   2.99        0        0         0   8.97  \n",
       "2011-11-02           2.99   2.99        0        0         0   8.97  \n",
       "2011-11-16           2.72   2.72        0        0         0   8.16  \n",
       "2011-11-23           2.83   2.83        0        0         0  14.15  \n",
       "2011-11-30           2.56   2.56        0        0         0  17.92  \n",
       "2011-12-07           2.94   2.56        0        1         0  15.36  \n",
       "2011-12-14           2.99   2.99        0        0         0  20.93  \n",
       "2011-12-21           2.62   2.99        0        0         1  11.96  \n",
       "2011-12-28           2.62   2.99        0        0         1   8.97  \n",
       "2012-01-04           2.99   2.99        0        0         0  11.96  \n",
       "\n",
       "[148 rows x 12 columns]"
      ]
     },
     "execution_count": 14,
     "metadata": {},
     "output_type": "execute_result"
    }
   ],
   "source": [
    "store_a_prod_a"
   ]
  },
  {
   "cell_type": "code",
   "execution_count": null,
   "metadata": {},
   "outputs": [],
   "source": []
  },
  {
   "cell_type": "code",
   "execution_count": 21,
   "metadata": {},
   "outputs": [],
   "source": [
    "import statsmodels.api as sm\n",
    "from statsmodels.formula.api import ols"
   ]
  },
  {
   "cell_type": "markdown",
   "metadata": {},
   "source": [
    "# FITTING THE PED constants:"
   ]
  },
  {
   "cell_type": "code",
   "execution_count": 26,
   "metadata": {},
   "outputs": [],
   "source": [
    "data = transactions[(transactions.UPC == unique_products[3]) & (transactions.STORE_NUM == unique_stores[1])]"
   ]
  },
  {
   "cell_type": "code",
   "execution_count": 27,
   "metadata": {},
   "outputs": [
    {
     "data": {
      "text/plain": [
       "(131, 12)"
      ]
     },
     "execution_count": 27,
     "metadata": {},
     "output_type": "execute_result"
    }
   ],
   "source": [
    "data.shape"
   ]
  },
  {
   "cell_type": "code",
   "execution_count": 28,
   "metadata": {
    "scrolled": true
   },
   "outputs": [
    {
     "data": {
      "text/html": [
       "<div>\n",
       "<style scoped>\n",
       "    .dataframe tbody tr th:only-of-type {\n",
       "        vertical-align: middle;\n",
       "    }\n",
       "\n",
       "    .dataframe tbody tr th {\n",
       "        vertical-align: top;\n",
       "    }\n",
       "\n",
       "    .dataframe thead th {\n",
       "        text-align: right;\n",
       "    }\n",
       "</style>\n",
       "<table border=\"1\" class=\"dataframe\">\n",
       "  <thead>\n",
       "    <tr style=\"text-align: right;\">\n",
       "      <th></th>\n",
       "      <th>WEEK_END_DATE</th>\n",
       "      <th>STORE_NUM</th>\n",
       "      <th>UPC</th>\n",
       "      <th>UNITS</th>\n",
       "      <th>VISITS</th>\n",
       "      <th>HHS</th>\n",
       "      <th>base_price</th>\n",
       "      <th>price</th>\n",
       "      <th>FEATURE</th>\n",
       "      <th>DISPLAY</th>\n",
       "      <th>TPR_ONLY</th>\n",
       "      <th>SPEND</th>\n",
       "    </tr>\n",
       "    <tr>\n",
       "      <th>WEEK_END_DATE</th>\n",
       "      <th></th>\n",
       "      <th></th>\n",
       "      <th></th>\n",
       "      <th></th>\n",
       "      <th></th>\n",
       "      <th></th>\n",
       "      <th></th>\n",
       "      <th></th>\n",
       "      <th></th>\n",
       "      <th></th>\n",
       "      <th></th>\n",
       "      <th></th>\n",
       "    </tr>\n",
       "  </thead>\n",
       "  <tbody>\n",
       "    <tr>\n",
       "      <th>2009-01-14</th>\n",
       "      <td>2009-01-14</td>\n",
       "      <td>387</td>\n",
       "      <td>1111035398</td>\n",
       "      <td>4</td>\n",
       "      <td>4</td>\n",
       "      <td>4</td>\n",
       "      <td>3.50</td>\n",
       "      <td>4.49</td>\n",
       "      <td>0</td>\n",
       "      <td>0</td>\n",
       "      <td>1</td>\n",
       "      <td>17.96</td>\n",
       "    </tr>\n",
       "    <tr>\n",
       "      <th>2009-01-21</th>\n",
       "      <td>2009-01-21</td>\n",
       "      <td>387</td>\n",
       "      <td>1111035398</td>\n",
       "      <td>8</td>\n",
       "      <td>7</td>\n",
       "      <td>7</td>\n",
       "      <td>3.50</td>\n",
       "      <td>4.49</td>\n",
       "      <td>0</td>\n",
       "      <td>0</td>\n",
       "      <td>1</td>\n",
       "      <td>35.92</td>\n",
       "    </tr>\n",
       "    <tr>\n",
       "      <th>2009-01-28</th>\n",
       "      <td>2009-01-28</td>\n",
       "      <td>387</td>\n",
       "      <td>1111035398</td>\n",
       "      <td>2</td>\n",
       "      <td>2</td>\n",
       "      <td>2</td>\n",
       "      <td>3.50</td>\n",
       "      <td>4.49</td>\n",
       "      <td>0</td>\n",
       "      <td>0</td>\n",
       "      <td>1</td>\n",
       "      <td>8.98</td>\n",
       "    </tr>\n",
       "    <tr>\n",
       "      <th>2009-02-04</th>\n",
       "      <td>2009-02-04</td>\n",
       "      <td>387</td>\n",
       "      <td>1111035398</td>\n",
       "      <td>6</td>\n",
       "      <td>6</td>\n",
       "      <td>6</td>\n",
       "      <td>3.67</td>\n",
       "      <td>4.49</td>\n",
       "      <td>0</td>\n",
       "      <td>0</td>\n",
       "      <td>1</td>\n",
       "      <td>26.94</td>\n",
       "    </tr>\n",
       "    <tr>\n",
       "      <th>2009-08-05</th>\n",
       "      <td>2009-08-05</td>\n",
       "      <td>387</td>\n",
       "      <td>1111035398</td>\n",
       "      <td>15</td>\n",
       "      <td>15</td>\n",
       "      <td>15</td>\n",
       "      <td>3.00</td>\n",
       "      <td>3.00</td>\n",
       "      <td>0</td>\n",
       "      <td>0</td>\n",
       "      <td>0</td>\n",
       "      <td>45.00</td>\n",
       "    </tr>\n",
       "  </tbody>\n",
       "</table>\n",
       "</div>"
      ],
      "text/plain": [
       "              WEEK_END_DATE  STORE_NUM         UPC  UNITS  VISITS  HHS  \\\n",
       "WEEK_END_DATE                                                            \n",
       "2009-01-14       2009-01-14        387  1111035398      4       4    4   \n",
       "2009-01-21       2009-01-21        387  1111035398      8       7    7   \n",
       "2009-01-28       2009-01-28        387  1111035398      2       2    2   \n",
       "2009-02-04       2009-02-04        387  1111035398      6       6    6   \n",
       "2009-08-05       2009-08-05        387  1111035398     15      15   15   \n",
       "\n",
       "               base_price  price  FEATURE  DISPLAY  TPR_ONLY  SPEND  \n",
       "WEEK_END_DATE                                                        \n",
       "2009-01-14           3.50   4.49        0        0         1  17.96  \n",
       "2009-01-21           3.50   4.49        0        0         1  35.92  \n",
       "2009-01-28           3.50   4.49        0        0         1   8.98  \n",
       "2009-02-04           3.67   4.49        0        0         1  26.94  \n",
       "2009-08-05           3.00   3.00        0        0         0  45.00  "
      ]
     },
     "execution_count": 28,
     "metadata": {},
     "output_type": "execute_result"
    }
   ],
   "source": [
    "data.head()"
   ]
  },
  {
   "cell_type": "code",
   "execution_count": 84,
   "metadata": {},
   "outputs": [],
   "source": [
    "linear_model = ols(\"UNITS ~ price\", data=data).fit()\n",
    "\n",
    "linear_model.params"
   ]
  },
  {
   "cell_type": "code",
   "execution_count": 32,
   "metadata": {
    "scrolled": true
   },
   "outputs": [
    {
     "name": "stdout",
     "output_type": "stream",
     "text": [
      "                            OLS Regression Results                            \n",
      "==============================================================================\n",
      "Dep. Variable:                  UNITS   R-squared:                       0.024\n",
      "Model:                            OLS   Adj. R-squared:                  0.016\n",
      "Method:                 Least Squares   F-statistic:                     3.106\n",
      "Date:                Mon, 26 Nov 2018   Prob (F-statistic):             0.0804\n",
      "Time:                        15:49:23   Log-Likelihood:                -373.01\n",
      "No. Observations:                 131   AIC:                             750.0\n",
      "Df Residuals:                     129   BIC:                             755.8\n",
      "Df Model:                           1                                         \n",
      "Covariance Type:            nonrobust                                         \n",
      "==============================================================================\n",
      "                 coef    std err          t      P>|t|      [0.025      0.975]\n",
      "------------------------------------------------------------------------------\n",
      "Intercept     16.9992      4.329      3.927      0.000       8.434      25.565\n",
      "price         -2.4408      1.385     -1.762      0.080      -5.181       0.299\n",
      "==============================================================================\n",
      "Omnibus:                        9.976   Durbin-Watson:                   1.288\n",
      "Prob(Omnibus):                  0.007   Jarque-Bera (JB):               10.331\n",
      "Skew:                           0.569   Prob(JB):                      0.00571\n",
      "Kurtosis:                       3.773   Cond. No.                         40.6\n",
      "==============================================================================\n",
      "\n",
      "Warnings:\n",
      "[1] Standard Errors assume that the covariance matrix of the errors is correctly specified.\n"
     ]
    }
   ],
   "source": [
    "print(linear_model.summary())"
   ]
  },
  {
   "cell_type": "code",
   "execution_count": null,
   "metadata": {},
   "outputs": [],
   "source": []
  },
  {
   "cell_type": "code",
   "execution_count": 45,
   "metadata": {},
   "outputs": [],
   "source": [
    "def f(x):\n",
    "    return linear_model.params['Intercept']+linear_model.params['price']*x"
   ]
  },
  {
   "cell_type": "code",
   "execution_count": 47,
   "metadata": {
    "scrolled": false
   },
   "outputs": [
    {
     "data": {
      "text/plain": [
       "[<matplotlib.lines.Line2D at 0x7fc28c4f9470>]"
      ]
     },
     "execution_count": 47,
     "metadata": {},
     "output_type": "execute_result"
    },
    {
     "data": {
      "image/png": "[encoded data removed]",
      "text/plain": [
       "<Figure size 432x288 with 1 Axes>"
      ]
     },
     "metadata": {
      "needs_background": "light"
     },
     "output_type": "display_data"
    }
   ],
   "source": [
    "plt.scatter(data.price, data.UNITS)\n",
    "\n",
    "\n",
    "plt.plot(data.price, f(data.price))"
   ]
  },
  {
   "cell_type": "code",
   "execution_count": null,
   "metadata": {},
   "outputs": [],
   "source": [
    "estimated_PED = data.apply(lambda x:linear_model.params['Intercept']+linear_model.params['price']*x.price, axis=1).astype(int)"
   ]
  },
  {
   "cell_type": "code",
   "execution_count": 54,
   "metadata": {},
   "outputs": [],
   "source": [
    "# Fitting the income to price dependency"
   ]
  },
  {
   "cell_type": "markdown",
   "metadata": {},
   "source": [
    "# extrapolate = (data.SPEND - data.base_price*data.UNITS_)*(linear_model.params['Intercept']+linear_model.params['price']*data.price)"
   ]
  },
  {
   "cell_type": "code",
   "execution_count": 55,
   "metadata": {},
   "outputs": [],
   "source": [
    "import numpy as np"
   ]
  },
  {
   "cell_type": "code",
   "execution_count": 117,
   "metadata": {},
   "outputs": [],
   "source": [
    "def extrapolator(data, linear_model):\n",
    "    actual_base_price = data.base_price.iloc[-1]\n",
    "    \n",
    "    x = np.arange(data.price.min(), data.price.max() + 5, 0.01)\n",
    "    y = []\n",
    "    \n",
    "    for i in range(x.shape[0]):\n",
    "        y.append((x[i] - actual_base_price)*(linear_model.params['Intercept']+linear_model.params['price']*x[i]))\n",
    "    \n",
    "    return x, y"
   ]
  },
  {
   "cell_type": "code",
   "execution_count": 91,
   "metadata": {},
   "outputs": [],
   "source": [
    "current_price = data.price.iloc[-1]\n"
   ]
  },
  {
   "cell_type": "code",
   "execution_count": 94,
   "metadata": {},
   "outputs": [
    {
     "data": {
      "text/plain": [
       "2.99"
      ]
     },
     "execution_count": 94,
     "metadata": {},
     "output_type": "execute_result"
    }
   ],
   "source": [
    "current_price"
   ]
  },
  {
   "cell_type": "code",
   "execution_count": 62,
   "metadata": {},
   "outputs": [],
   "source": []
  },
  {
   "cell_type": "code",
   "execution_count": 97,
   "metadata": {},
   "outputs": [],
   "source": [
    "x = np.arange(data.price.min(), data.price.max()+5, 0.01)\n",
    "y = []\n",
    "\n",
    "for i in range(x.shape[0]):\n",
    "    y.append((x[i] - actual_base_price)*(linear_model.params['Intercept']+linear_model.params['price']*x[i]))"
   ]
  },
  {
   "cell_type": "code",
   "execution_count": 98,
   "metadata": {},
   "outputs": [
    {
     "data": {
      "text/plain": [
       "[<matplotlib.lines.Line2D at 0x7fc28c19b470>]"
      ]
     },
     "execution_count": 98,
     "metadata": {},
     "output_type": "execute_result"
    },
    {
     "data": {
      "image/png": "[encoded data removed]",
      "text/plain": [
       "<Figure size 432x288 with 1 Axes>"
      ]
     },
     "metadata": {
      "needs_background": "light"
     },
     "output_type": "display_data"
    }
   ],
   "source": [
    "plt.plot(x,y)\n",
    "\n",
    "plt.plot(x[np.array(y).argmax(axis=0)], np.array(y).max(), 'g H')\n",
    "plt.plot(current_price, (current_price - actual_base_price)*(linear_model.params['Intercept']+linear_model.params['price']*current_price), 'r H')"
   ]
  },
  {
   "cell_type": "markdown",
   "metadata": {},
   "source": [
    "# additional testing"
   ]
  },
  {
   "cell_type": "code",
   "execution_count": 101,
   "metadata": {},
   "outputs": [],
   "source": [
    "data = transactions[(transactions.UPC == unique_products[45]) & (transactions.STORE_NUM == unique_stores[54])]"
   ]
  },
  {
   "cell_type": "code",
   "execution_count": 103,
   "metadata": {},
   "outputs": [
    {
     "data": {
      "text/plain": [
       "Intercept    11.921852\n",
       "price        -3.262321\n",
       "dtype: float64"
      ]
     },
     "execution_count": 103,
     "metadata": {},
     "output_type": "execute_result"
    }
   ],
   "source": [
    "linear_model = ols(\"UNITS ~ price\", data=data).fit()\n",
    "\n",
    "linear_model.params"
   ]
  },
  {
   "cell_type": "code",
   "execution_count": 104,
   "metadata": {
    "scrolled": true
   },
   "outputs": [
    {
     "data": {
      "text/plain": [
       "[<matplotlib.lines.Line2D at 0x7fc28c346f60>]"
      ]
     },
     "execution_count": 104,
     "metadata": {},
     "output_type": "execute_result"
    },
    {
     "data": {
      "image/png": "[encoded data removed]",
      "text/plain": [
       "<Figure size 432x288 with 1 Axes>"
      ]
     },
     "metadata": {
      "needs_background": "light"
     },
     "output_type": "display_data"
    }
   ],
   "source": [
    "plt.scatter(data.price, data.UNITS)\n",
    "\n",
    "\n",
    "plt.plot(data.price, f(data.price))"
   ]
  },
  {
   "cell_type": "code",
   "execution_count": 113,
   "metadata": {},
   "outputs": [],
   "source": [
    "\n",
    "\n",
    "current_price = data.price.iloc[-1]"
   ]
  },
  {
   "cell_type": "code",
   "execution_count": 114,
   "metadata": {},
   "outputs": [
    {
     "data": {
      "text/plain": [
       "2.65"
      ]
     },
     "execution_count": 114,
     "metadata": {},
     "output_type": "execute_result"
    }
   ],
   "source": [
    "current_price"
   ]
  },
  {
   "cell_type": "code",
   "execution_count": 118,
   "metadata": {
    "scrolled": true
   },
   "outputs": [],
   "source": [
    "x,y = extrapolator(data, linear_model)"
   ]
  },
  {
   "cell_type": "code",
   "execution_count": 142,
   "metadata": {},
   "outputs": [
    {
     "data": {
      "text/plain": [
       "[<matplotlib.lines.Line2D at 0x7fc28c5dcc88>]"
      ]
     },
     "execution_count": 142,
     "metadata": {},
     "output_type": "execute_result"
    },
    {
     "data": {
      "image/png": "[encoded data removed]",
      "text/plain": [
       "<Figure size 432x288 with 1 Axes>"
      ]
     },
     "metadata": {
      "needs_background": "light"
     },
     "output_type": "display_data"
    }
   ],
   "source": [
    "plt.plot(x,y)\n",
    "\n",
    "plt.plot(x[np.array(y).argmax(axis=0)], np.array(y).max(), 'g H')\n",
    "plt.plot(current_price, (current_price - actual_base_price)*(linear_model.params['Intercept']-linear_model.params['price']*current_price), 'r H')"
   ]
  },
  {
   "cell_type": "code",
   "execution_count": 143,
   "metadata": {},
   "outputs": [
    {
     "data": {
      "text/plain": [
       "[-5.009638984771898,\n",
       " -4.924124954473514,\n",
       " -4.839252392744458,\n",
       " -4.755021299584728,\n",
       " -4.671431674994325,\n",
       " -4.5884835189732485,\n",
       " -4.5061768315215,\n",
       " -4.424511612639076,\n",
       " -4.34348786232598,\n",
       " -4.26310558058221,\n",
       " -4.183364767407768,\n",
       " -4.104265422802651,\n",
       " -4.0258075467668615,\n",
       " -3.947991139300399,\n",
       " -3.870816200403263,\n",
       " -3.794282730075453,\n",
       " -3.7183907283169706,\n",
       " -3.643140195127814,\n",
       " -3.568531130507985,\n",
       " -3.494563534457482,\n",
       " -3.421237406976306,\n",
       " -3.348552748064458,\n",
       " -3.2765095577219343,\n",
       " -3.2051078359487364,\n",
       " -3.134347582744869,\n",
       " -3.0642287981103276,\n",
       " -2.9947514820451104,\n",
       " -2.925915634549219,\n",
       " -2.8577212556226588,\n",
       " -2.7901683452654242,\n",
       " -2.723256903477514,\n",
       " -2.6569869302589293,\n",
       " -2.5913584256096756,\n",
       " -2.5263713895297477,\n",
       " -2.462025822019144,\n",
       " -2.398321723077867,\n",
       " -2.335259092705919,\n",
       " -2.272837930903298,\n",
       " -2.2110582376700014,\n",
       " -2.149920013006031,\n",
       " -2.08942325691139,\n",
       " -2.0295679693860755,\n",
       " -1.9703541504300857,\n",
       " -1.9117818000434224,\n",
       " -1.853850918226088,\n",
       " -1.7965615049780803,\n",
       " -1.7399135602993971,\n",
       " -1.6839070841900405,\n",
       " -1.628542076650013,\n",
       " -1.573818537679312,\n",
       " -1.5197364672779354,\n",
       " -1.4662958654458857,\n",
       " -1.4134967321831649,\n",
       " -1.3613390674897705,\n",
       " -1.309822871365701,\n",
       " -1.258948143810958,\n",
       " -1.2087148848255438,\n",
       " -1.1591230944094562,\n",
       " -1.1101727725626933,\n",
       " -1.0618639192852573,\n",
       " -1.0141965345771498,\n",
       " -0.9671706184383689,\n",
       " -0.9207861708689128,\n",
       " -0.8750431918687834,\n",
       " -0.8299416814379826,\n",
       " -0.7854816395765086,\n",
       " -0.7416630662843593,\n",
       " -0.6984859615615368,\n",
       " -0.6559503254080428,\n",
       " -0.6140561578238753,\n",
       " -0.5728034588090328,\n",
       " -0.5321922283635171,\n",
       " -0.49222246648732987,\n",
       " -0.4528941731804691,\n",
       " -0.41420734844293344,\n",
       " -0.37616199227472447,\n",
       " -0.33875810467584394,\n",
       " -0.30199568564628987,\n",
       " -0.26587473518606103,\n",
       " -0.23039525329515886,\n",
       " -0.195557239973585,\n",
       " -0.1613606952213377,\n",
       " -0.12780561903841564,\n",
       " -0.09489201142482029,\n",
       " -0.0626198723805531,\n",
       " -0.030989201905612523,\n",
       " 2.7239071106200907e-15,\n",
       " 0.03034773333629126,\n",
       " 0.060053998103251786,\n",
       " 0.08911879430088561,\n",
       " 0.11754212192919405,\n",
       " 0.14532398098817578,\n",
       " 0.17246437147782964,\n",
       " 0.19896329339815672,\n",
       " 0.22482074674915836,\n",
       " 0.2500367315308333,\n",
       " 0.27461124774318046,\n",
       " 0.2985442953862008,\n",
       " 0.32183587445989564,\n",
       " 0.34448598496426375,\n",
       " 0.36649462689930423,\n",
       " 0.3878618002650178,\n",
       " 0.4085875050614059,\n",
       " 0.4286717412884672,\n",
       " 0.44811450894620103,\n",
       " 0.46691580803460786,\n",
       " 0.4850756385536891,\n",
       " 0.5025940005034436,\n",
       " 0.5194708938838708,\n",
       " 0.5357063186949709,\n",
       " 0.5513002749367453,\n",
       " 0.566252762609193,\n",
       " 0.5805637817123135,\n",
       " 0.5942333322461069,\n",
       " 0.6072614142105744,\n",
       " 0.6196480276057154,\n",
       " 0.6313931724315291,\n",
       " 0.6424968486880158,\n",
       " 0.6529590563751766,\n",
       " 0.6627797954930107,\n",
       " 0.6719590660415179,\n",
       " 0.6804968680206978,\n",
       " 0.6883932014305517,\n",
       " 0.695648066271079,\n",
       " 0.7022614625422795,\n",
       " 0.7082333902441525,\n",
       " 0.7135638493766998,\n",
       " 0.7182528399399203,\n",
       " 0.7223003619338141,\n",
       " 0.7257064153583804,\n",
       " 0.7284710002136209,\n",
       " 0.7305941164995345,\n",
       " 0.7320757642161216,\n",
       " 0.7329159433633813,\n",
       " 0.7331146539413149,\n",
       " 0.7326718959499218,\n",
       " 0.7315876693892023,\n",
       " 0.7298619742591551,\n",
       " 0.7274948105597819,\n",
       " 0.724486178291082,\n",
       " 0.7208360774530558,\n",
       " 0.7165445080457019,\n",
       " 0.7116114700690219,\n",
       " 0.7060369635230151,\n",
       " 0.6998209884076823,\n",
       " 0.6929635447230217,\n",
       " 0.6854646324690349,\n",
       " 0.6773242516457213,\n",
       " 0.6685424022530817,\n",
       " 0.6591190842911155,\n",
       " 0.6490542977598208,\n",
       " 0.6383480426592004,\n",
       " 0.6270003189892542,\n",
       " 0.6150111267499813,\n",
       " 0.6023804659413796,\n",
       " 0.5891083365634525,\n",
       " 0.5751947386161996,\n",
       " 0.56063967209962,\n",
       " 0.5454431370137115,\n",
       " 0.5296051333584776,\n",
       " 0.513125661133918,\n",
       " 0.49600472034003174,\n",
       " 0.4782423109768164,\n",
       " 0.4598384330442757,\n",
       " 0.44079308654240934,\n",
       " 0.42110627147121643,\n",
       " 0.4007779878306942,\n",
       " 0.3798082356208467,\n",
       " 0.3581970148416737,\n",
       " 0.3359443254931741,\n",
       " 0.313050167575345,\n",
       " 0.2895145410881907,\n",
       " 0.265337446031711,\n",
       " 0.24051888240590472,\n",
       " 0.21505885021076876,\n",
       " 0.18895734944630763,\n",
       " 0.16221438011252132,\n",
       " 0.13482994220940833,\n",
       " 0.10680403573696551,\n",
       " 0.07813666069519756,\n",
       " 0.04882781708410457,\n",
       " 0.018877504903684925,\n",
       " -0.011714275846064787,\n",
       " -0.04294752516513952,\n",
       " -0.0748222430535392,\n",
       " -0.10733842951126552,\n",
       " -0.14049608453832033,\n",
       " -0.17429520813470364,\n",
       " -0.20873580030041,\n",
       " -0.24381786103544298,\n",
       " -0.2795413903398046,\n",
       " -0.31590638821349476,\n",
       " -0.3529128546565078,\n",
       " -0.3905607896688475,\n",
       " -0.4288501932505159,\n",
       " -0.467781065401513,\n",
       " -0.5073534061218327,\n",
       " -0.547567215411479,\n",
       " -0.5884224932704543,\n",
       " -0.6299192396987582,\n",
       " -0.6720574546963846,\n",
       " -0.7148371382633375,\n",
       " -0.7582582903996196,\n",
       " -0.8023209111052304,\n",
       " -0.8470250003801635,\n",
       " -0.8923705582244231,\n",
       " -0.938357584638012,\n",
       " -0.9849860796209297,\n",
       " -1.0322560431731693,\n",
       " -1.0801674752947357,\n",
       " -1.1287203759856315,\n",
       " -1.1779147452458558,\n",
       " -1.2277505830754023,\n",
       " -1.2782278894742753,\n",
       " -1.3293466644424778,\n",
       " -1.3811069079800091,\n",
       " -1.4335086200868623,\n",
       " -1.486551800763042,\n",
       " -1.5402364500085512,\n",
       " -1.5945625678233895,\n",
       " -1.6495301542075493,\n",
       " -1.7051392091610358,\n",
       " -1.7613897326838512,\n",
       " -1.8182817247759968,\n",
       " -1.8758151854374634,\n",
       " -1.9339901146682563,\n",
       " -1.9928065124683825,\n",
       " -2.0522643788378288,\n",
       " -2.1123637137766043,\n",
       " -2.1731045172847043,\n",
       " -2.234486789362133,\n",
       " -2.29651053000889,\n",
       " -2.3591757392249724,\n",
       " -2.4224824170103787,\n",
       " -2.486430563365119,\n",
       " -2.5510201782891784,\n",
       " -2.6162512617825677,\n",
       " -2.6821238138452808,\n",
       " -2.7486378344773206,\n",
       " -2.815793323678694,\n",
       " -2.88359028144939,\n",
       " -2.9520287077894096,\n",
       " -3.0211086026987632,\n",
       " -3.0908299661774365,\n",
       " -3.161192798225439,\n",
       " -3.2321970988427653,\n",
       " -3.3038428680294185,\n",
       " -3.3761301057854056,\n",
       " -3.449058812110715,\n",
       " -3.522628987005348,\n",
       " -3.5968406304693157,\n",
       " -3.6716937425026024,\n",
       " -3.7471883231052185,\n",
       " -3.823324372277158,\n",
       " -3.9001018900184246,\n",
       " -3.977520876329026,\n",
       " -4.055581331208948,\n",
       " -4.134283254658195,\n",
       " -4.213626646676777,\n",
       " -4.293611507264676,\n",
       " -4.374237836421906,\n",
       " -4.455505634148459,\n",
       " -4.537414900444339,\n",
       " -4.619965635309554,\n",
       " -4.70315783874409,\n",
       " -4.78699151074795,\n",
       " -4.871466651321145,\n",
       " -4.956583260463659,\n",
       " -5.042341338175501,\n",
       " -5.128740884456668,\n",
       " -5.215781899307161,\n",
       " -5.30346438272699,\n",
       " -5.39178833471614,\n",
       " -5.480753755274613,\n",
       " -5.570360644402422,\n",
       " -5.660609002099549,\n",
       " -5.751498828366005,\n",
       " -5.843030123201785,\n",
       " -5.935202886606891,\n",
       " -6.028017118581334,\n",
       " -6.121472819125097,\n",
       " -6.215569988238184,\n",
       " -6.310308625920607,\n",
       " -6.405688732172347,\n",
       " -6.5017103069934175,\n",
       " -6.5983733503838105,\n",
       " -6.69567786234353,\n",
       " -6.793623842872587,\n",
       " -6.8922112919709635,\n",
       " -6.991440209638664,\n",
       " -7.0913105958757,\n",
       " -7.191822450682054,\n",
       " -7.292975774057737,\n",
       " -7.394770566002744,\n",
       " -7.497206826517076,\n",
       " -7.600284555600747,\n",
       " -7.704003753253738,\n",
       " -7.80836441947605,\n",
       " -7.913366554267702,\n",
       " -8.019010157628667,\n",
       " -8.125295229558965,\n",
       " -8.232221770058585,\n",
       " -8.339789779127532,\n",
       " -8.447999256765815,\n",
       " -8.55685020297342,\n",
       " -8.666342617750347,\n",
       " -8.77647650109661,\n",
       " -8.887251853012192,\n",
       " -8.998668673497102,\n",
       " -9.110726962551334,\n",
       " -9.223426720174894,\n",
       " -9.336767946367793,\n",
       " -9.450750641130005,\n",
       " -9.56537480446155,\n",
       " -9.680640436362427,\n",
       " -9.796547536832621,\n",
       " -9.91309610587214,\n",
       " -10.030286143480993,\n",
       " -10.148117649659165,\n",
       " -10.266590624406678,\n",
       " -10.385705067723508,\n",
       " -10.505460979609662,\n",
       " -10.625858360065154,\n",
       " -10.74689720908996,\n",
       " -10.868577526684094,\n",
       " -10.990899312847553,\n",
       " -11.113862567580348,\n",
       " -11.237467290882474,\n",
       " -11.361713482753915,\n",
       " -11.486601143194681,\n",
       " -11.612130272204787,\n",
       " -11.738300869784208,\n",
       " -11.865112935932954,\n",
       " -11.992566470651028,\n",
       " -12.120661473938435,\n",
       " -12.249397945795176,\n",
       " -12.378775886221229,\n",
       " -12.50879529521661,\n",
       " -12.63945617278133,\n",
       " -12.770758518915363,\n",
       " -12.902702333618722,\n",
       " -13.03528761689141,\n",
       " -13.168514368733431,\n",
       " -13.302382589144786,\n",
       " -13.436892278125452,\n",
       " -13.572043435675445,\n",
       " -13.70783606179478,\n",
       " -13.844270156483425,\n",
       " -13.9813457197414,\n",
       " -14.119062751568698,\n",
       " -14.257421251965335,\n",
       " -14.396421220931293,\n",
       " -14.536062658466582,\n",
       " -14.67634556457119,\n",
       " -14.817269939245136,\n",
       " -14.958835782488396,\n",
       " -15.101043094300984,\n",
       " -15.243891874682896,\n",
       " -15.387382123634147,\n",
       " -15.531513841154718,\n",
       " -15.676287027244621,\n",
       " -15.821701681903841,\n",
       " -15.967757805132402,\n",
       " -16.114455396930275,\n",
       " -16.261794457297476,\n",
       " -16.409774986234,\n",
       " -16.558396983739858,\n",
       " -16.70766044981505,\n",
       " -16.85756538445957,\n",
       " -17.008111787673403,\n",
       " -17.15929965945658,\n",
       " -17.311128999809064,\n",
       " -17.463599808730876,\n",
       " -17.616712086222016,\n",
       " -17.770465832282483,\n",
       " -17.924861046912294,\n",
       " -18.079897730111423,\n",
       " -18.23557588187987,\n",
       " -18.39189550221766,\n",
       " -18.54885659112476,\n",
       " -18.706459148601187,\n",
       " -18.86470317464694,\n",
       " -19.02358866926202,\n",
       " -19.183115632446444,\n",
       " -19.343284064200187,\n",
       " -19.504093964523246,\n",
       " -19.66554533341565,\n",
       " -19.827638170877364,\n",
       " -19.990372476908405,\n",
       " -20.15374825150877,\n",
       " -20.317765494678465,\n",
       " -20.4824242064175,\n",
       " -20.64772438672586,\n",
       " -20.813666035603532,\n",
       " -20.980249153050547,\n",
       " -21.147473739066875,\n",
       " -21.31533979365253,\n",
       " -21.48384731680751,\n",
       " -21.652996308531815,\n",
       " -21.822786768825466,\n",
       " -21.993218697688437,\n",
       " -22.164292095120725,\n",
       " -22.336006961122337,\n",
       " -22.508363295693297,\n",
       " -22.681361098833563,\n",
       " -22.855000370543156,\n",
       " -23.029281110822094,\n",
       " -23.20420331967034,\n",
       " -23.379766997087923,\n",
       " -23.555972143074825,\n",
       " -23.73281875763105,\n",
       " -23.910306840756622,\n",
       " -24.088436392451502,\n",
       " -24.26720741271571,\n",
       " -24.446619901549262,\n",
       " -24.62667385895212,\n",
       " -24.80736928492432,\n",
       " -24.988706179465833,\n",
       " -25.170684542576673,\n",
       " -25.353304374256858,\n",
       " -25.536565674506353,\n",
       " -25.720468443325174,\n",
       " -25.905012680713337,\n",
       " -26.090198386670814,\n",
       " -26.276025561197624,\n",
       " -26.46249420429375,\n",
       " -26.649604315959206,\n",
       " -26.837355896194005,\n",
       " -27.02574894499811,\n",
       " -27.214783462371543,\n",
       " -27.404459448314324,\n",
       " -27.59477690282641,\n",
       " -27.785735825907835,\n",
       " -27.977336217558577,\n",
       " -28.16957807777864,\n",
       " -28.362461406568055,\n",
       " -28.555986203926775,\n",
       " -28.75015246985482,\n",
       " -28.944960204352217,\n",
       " -29.140409407418918,\n",
       " -29.336500079054943,\n",
       " -29.53323221926031,\n",
       " -29.73060582803499,\n",
       " -29.928620905379017,\n",
       " -30.12727745129235,\n",
       " -30.32657546577501,\n",
       " -30.526514948827018,\n",
       " -30.72709590044833,\n",
       " -30.928318320638972,\n",
       " -31.13018220939895,\n",
       " -31.332687566728243,\n",
       " -31.535834392626885,\n",
       " -31.739622687094833,\n",
       " -31.944052450132105,\n",
       " -32.14912368173873,\n",
       " -32.35483638191465,\n",
       " -32.56119055065991,\n",
       " -32.7681861879745,\n",
       " -32.975823293858404,\n",
       " -33.184101868311664,\n",
       " -33.39302191133422,\n",
       " -33.60258342292611,\n",
       " -33.812786403087344,\n",
       " -34.023630851817884,\n",
       " -34.23511676911775,\n",
       " -34.44724415498696,\n",
       " -34.66001300942548,\n",
       " -34.87342333243335,\n",
       " -35.08747512401052,\n",
       " -35.30216838415702,\n",
       " -35.517503112872866,\n",
       " -35.733479310158025,\n",
       " -35.9500969760125,\n",
       " -36.16735611043632,\n",
       " -36.385256713429456,\n",
       " -36.60379878499194,\n",
       " -36.822982325123725,\n",
       " -37.04280733382484,\n",
       " -37.2632738110953,\n",
       " -37.48438175693507,\n",
       " -37.70613117134416,\n",
       " -37.9285220543226,\n",
       " -38.15155440587034,\n",
       " -38.37522822598744,\n",
       " -38.59954351467384,\n",
       " -38.824500271929566,\n",
       " -39.05009849775465,\n",
       " -39.276338192149026,\n",
       " -39.50321935511273,\n",
       " -39.73074198664578,\n",
       " -39.958906086748144,\n",
       " -40.18771165541985,\n",
       " -40.41715869266086,\n",
       " -40.6472471984712,\n",
       " -40.8779771728509,\n",
       " -41.109348615799895,\n",
       " -41.34136152731821,\n",
       " -41.57401590740587,\n",
       " -41.807311756062845,\n",
       " -42.041249073289165,\n",
       " -42.27582785908479,\n",
       " -42.511048113449746,\n",
       " -42.746909836384056,\n",
       " -42.983413027887664,\n",
       " -43.2205576879606,\n",
       " -43.45834381660287,\n",
       " -43.69677141381446,\n",
       " -43.935840479595385,\n",
       " -44.17555101394563,\n",
       " -44.415903016865194,\n",
       " -44.65689648835412,\n",
       " -44.89853142841234,\n",
       " -45.14080783703989,\n",
       " -45.38372571423678,\n",
       " -45.62728506000298,\n",
       " -45.87148587433852,\n",
       " -46.11632815724337,\n",
       " -46.361811908717556,\n",
       " -46.607937128761094,\n",
       " -46.85470381737393,\n",
       " -47.10211197455609,\n",
       " -47.350161600307594,\n",
       " -47.598852694628405,\n",
       " -47.848185257518566,\n",
       " -48.09815928897803,\n",
       " -48.348774789006825,\n",
       " -48.60003175760498,\n",
       " -48.85193019477243,\n",
       " -49.1044701005092,\n",
       " -49.3576514748153,\n",
       " -49.61147431769074,\n",
       " -49.86593862913551,\n",
       " -50.12104440914959,\n",
       " -50.376791657733,\n",
       " -50.63318037488577,\n",
       " -50.89021056060783,\n",
       " -51.14788221489922,\n",
       " -51.40619533775993,\n",
       " -51.66514992918999,\n",
       " -51.92474598918937,\n",
       " -52.18498351775806,\n",
       " -52.445862514896085,\n",
       " -52.70738298060347,\n",
       " -52.96954491488014,\n",
       " -53.23234831772614,\n",
       " -53.495793189141466,\n",
       " -53.75987952912614,\n",
       " -54.02460733768014,\n",
       " -54.28997661480344,\n",
       " -54.555987360496076,\n",
       " -54.82263957475807,\n",
       " -55.08993325758936,\n",
       " -55.35786840898997,\n",
       " -55.626445028959914,\n",
       " -55.8956631174992,\n",
       " -56.16552267460781,\n",
       " -56.43602370028573,\n",
       " -56.70716619453298,\n",
       " -56.97895015734959,\n",
       " -57.25137558873549,\n",
       " -57.52444248869072,\n",
       " -57.79815085721527,\n",
       " -58.07250069430917,\n",
       " -58.34749199997239,\n",
       " -58.623124774204925,\n",
       " -58.899399017006786,\n",
       " -59.17631472837801,\n",
       " -59.453871908318526,\n",
       " -59.73207055682837,\n",
       " -60.01091067390753,\n",
       " -60.29039225955604,\n",
       " -60.57051531377388,\n",
       " -60.85127983656103,\n",
       " -61.132685827917506,\n",
       " -61.41473328784334,\n",
       " -61.69742221633847,\n",
       " -61.98075261340292,\n",
       " -62.2647244790367,\n",
       " -62.54933781323983,\n",
       " -62.83459261601228,\n",
       " -63.12048888735404,\n",
       " -63.407026627265125,\n",
       " -63.694205835745585,\n",
       " -63.98202651279532,\n",
       " -64.2704886584144,\n",
       " -64.55959227260279,\n",
       " -64.84933735536052,\n",
       " -65.13972390668759,\n",
       " -65.43075192658397,\n",
       " -65.72242141504967]"
      ]
     },
     "execution_count": 143,
     "metadata": {},
     "output_type": "execute_result"
    }
   ],
   "source": [
    "y"
   ]
  },
  {
   "cell_type": "markdown",
   "metadata": {},
   "source": [
    "# lets create a fancier regressor"
   ]
  },
  {
   "cell_type": "code",
   "execution_count": 126,
   "metadata": {},
   "outputs": [
    {
     "data": {
      "text/html": [
       "<div>\n",
       "<style scoped>\n",
       "    .dataframe tbody tr th:only-of-type {\n",
       "        vertical-align: middle;\n",
       "    }\n",
       "\n",
       "    .dataframe tbody tr th {\n",
       "        vertical-align: top;\n",
       "    }\n",
       "\n",
       "    .dataframe thead th {\n",
       "        text-align: right;\n",
       "    }\n",
       "</style>\n",
       "<table border=\"1\" class=\"dataframe\">\n",
       "  <thead>\n",
       "    <tr style=\"text-align: right;\">\n",
       "      <th></th>\n",
       "      <th>WEEK_END_DATE</th>\n",
       "      <th>STORE_NUM</th>\n",
       "      <th>UPC</th>\n",
       "      <th>UNITS</th>\n",
       "      <th>VISITS</th>\n",
       "      <th>HHS</th>\n",
       "      <th>base_price</th>\n",
       "      <th>price</th>\n",
       "      <th>FEATURE</th>\n",
       "      <th>DISPLAY</th>\n",
       "      <th>TPR_ONLY</th>\n",
       "      <th>SPEND</th>\n",
       "    </tr>\n",
       "    <tr>\n",
       "      <th>WEEK_END_DATE</th>\n",
       "      <th></th>\n",
       "      <th></th>\n",
       "      <th></th>\n",
       "      <th></th>\n",
       "      <th></th>\n",
       "      <th></th>\n",
       "      <th></th>\n",
       "      <th></th>\n",
       "      <th></th>\n",
       "      <th></th>\n",
       "      <th></th>\n",
       "      <th></th>\n",
       "    </tr>\n",
       "  </thead>\n",
       "  <tbody>\n",
       "    <tr>\n",
       "      <th>2009-01-21</th>\n",
       "      <td>2009-01-21</td>\n",
       "      <td>21479</td>\n",
       "      <td>7797502248</td>\n",
       "      <td>3</td>\n",
       "      <td>3</td>\n",
       "      <td>3</td>\n",
       "      <td>2.39</td>\n",
       "      <td>2.39</td>\n",
       "      <td>0</td>\n",
       "      <td>0</td>\n",
       "      <td>0</td>\n",
       "      <td>7.17</td>\n",
       "    </tr>\n",
       "    <tr>\n",
       "      <th>2009-01-28</th>\n",
       "      <td>2009-01-28</td>\n",
       "      <td>21479</td>\n",
       "      <td>7797502248</td>\n",
       "      <td>2</td>\n",
       "      <td>2</td>\n",
       "      <td>2</td>\n",
       "      <td>2.39</td>\n",
       "      <td>2.39</td>\n",
       "      <td>0</td>\n",
       "      <td>0</td>\n",
       "      <td>0</td>\n",
       "      <td>4.78</td>\n",
       "    </tr>\n",
       "  </tbody>\n",
       "</table>\n",
       "</div>"
      ],
      "text/plain": [
       "              WEEK_END_DATE  STORE_NUM         UPC  UNITS  VISITS  HHS  \\\n",
       "WEEK_END_DATE                                                            \n",
       "2009-01-21       2009-01-21      21479  7797502248      3       3    3   \n",
       "2009-01-28       2009-01-28      21479  7797502248      2       2    2   \n",
       "\n",
       "               base_price  price  FEATURE  DISPLAY  TPR_ONLY  SPEND  \n",
       "WEEK_END_DATE                                                        \n",
       "2009-01-21           2.39   2.39        0        0         0   7.17  \n",
       "2009-01-28           2.39   2.39        0        0         0   4.78  "
      ]
     },
     "execution_count": 126,
     "metadata": {},
     "output_type": "execute_result"
    }
   ],
   "source": [
    "data.head(2)"
   ]
  },
  {
   "cell_type": "code",
   "execution_count": 124,
   "metadata": {},
   "outputs": [],
   "source": [
    "from sklearn.linear_model import LinearRegression"
   ]
  },
  {
   "cell_type": "code",
   "execution_count": 125,
   "metadata": {},
   "outputs": [],
   "source": [
    "lr = LinearRegression()"
   ]
  },
  {
   "cell_type": "code",
   "execution_count": 128,
   "metadata": {},
   "outputs": [
    {
     "data": {
      "text/plain": [
       "LinearRegression(copy_X=True, fit_intercept=True, n_jobs=None,\n",
       "         normalize=False)"
      ]
     },
     "execution_count": 128,
     "metadata": {},
     "output_type": "execute_result"
    }
   ],
   "source": [
    "lr.fit(X=data[['price','FEATURE' ,'DISPLAY', 'TPR_ONLY']], y = data['UNITS'])"
   ]
  },
  {
   "cell_type": "code",
   "execution_count": 131,
   "metadata": {},
   "outputs": [
    {
     "data": {
      "text/plain": [
       "11.566305305673739"
      ]
     },
     "execution_count": 131,
     "metadata": {},
     "output_type": "execute_result"
    }
   ],
   "source": [
    "lr.intercept_"
   ]
  },
  {
   "cell_type": "code",
   "execution_count": 133,
   "metadata": {},
   "outputs": [
    {
     "data": {
      "text/plain": [
       "-3.2073428466334395"
      ]
     },
     "execution_count": 133,
     "metadata": {},
     "output_type": "execute_result"
    }
   ],
   "source": [
    "lr.coef_[0]"
   ]
  },
  {
   "cell_type": "code",
   "execution_count": 146,
   "metadata": {},
   "outputs": [],
   "source": [
    "actual_base_price = data.base_price.iloc[-1]\n",
    "\n",
    "x = np.arange(data.price.min(), data.price.max() + 5, 0.01)\n",
    "y = []\n",
    "\n",
    "for i in range(x.shape[0]):\n",
    "    y.append((x[i] - actual_base_price)*(lr.intercept_+lr.coef_[0]*x[i]))"
   ]
  },
  {
   "cell_type": "code",
   "execution_count": 149,
   "metadata": {},
   "outputs": [
    {
     "data": {
      "text/plain": [
       "[<matplotlib.lines.Line2D at 0x7fc289528470>]"
      ]
     },
     "execution_count": 149,
     "metadata": {},
     "output_type": "execute_result"
    },
    {
     "data": {
      "image/png": "[encoded data removed]",
      "text/plain": [
       "<Figure size 432x288 with 1 Axes>"
      ]
     },
     "metadata": {
      "needs_background": "light"
     },
     "output_type": "display_data"
    }
   ],
   "source": [
    "plt.plot(x,y)\n",
    "\n",
    "plt.plot(x[np.array(y).argmax(axis=0)], np.array(y).max(), 'g H')\n",
    "plt.plot(current_price, (current_price - actual_base_price)*(lr.intercept_+lr.coef_[0]*current_price), 'r H')"
   ]
  },
  {
   "cell_type": "code",
   "execution_count": null,
   "metadata": {},
   "outputs": [],
   "source": []
  },
  {
   "cell_type": "code",
   "execution_count": 156,
   "metadata": {},
   "outputs": [
    {
     "data": {
      "text/plain": [
       "'UPC,DESCRIPTION,MANUFACTURER,CATEGORY,SUB_CATEGORY,PRODUCT_SIZE'"
      ]
     },
     "execution_count": 156,
     "metadata": {},
     "output_type": "execute_result"
    }
   ],
   "source": [
    "\n",
    "','.join(pd.read_csv('/home/olksndr/projects/products.csv').columns)"
   ]
  },
  {
   "cell_type": "code",
   "execution_count": 157,
   "metadata": {},
   "outputs": [],
   "source": [
    "# enlarge the observations number"
   ]
  },
  {
   "cell_type": "code",
   "execution_count": 158,
   "metadata": {},
   "outputs": [
    {
     "name": "stderr",
     "output_type": "stream",
     "text": [
      "/home/olksndr/enviroments/tfdeeplearning/lib/python3.5/site-packages/psycopg2/__init__.py:144: UserWarning: The psycopg2 wheel package will be renamed from release 2.8; in order to keep installing from binary please use \"pip install psycopg2-binary\" instead. For details see: <http://initd.org/psycopg/docs/install.html#binary-install-from-pypi>.\n",
      "  \"\"\")\n"
     ]
    }
   ],
   "source": [
    "import psycopg2"
   ]
  },
  {
   "cell_type": "code",
   "execution_count": 11,
   "metadata": {},
   "outputs": [
    {
     "ename": "NameError",
     "evalue": "name 'psycopg2' is not defined",
     "output_type": "error",
     "traceback": [
      "\u001b[0;31m---------------------------------------------------------------------------\u001b[0m",
      "\u001b[0;31mNameError\u001b[0m                                 Traceback (most recent call last)",
      "\u001b[0;32m<ipython-input-11-3345be266347>\u001b[0m in \u001b[0;36m<module>\u001b[0;34m\u001b[0m\n\u001b[0;32m----> 1\u001b[0;31m \u001b[0mconn\u001b[0m \u001b[0;34m=\u001b[0m \u001b[0mpsycopg2\u001b[0m\u001b[0;34m.\u001b[0m\u001b[0mconnect\u001b[0m\u001b[0;34m(\u001b[0m\u001b[0;34m\"host = localhost dbname = gal user = postgres\"\u001b[0m\u001b[0;34m)\u001b[0m\u001b[0;34m\u001b[0m\u001b[0m\n\u001b[0m",
      "\u001b[0;31mNameError\u001b[0m: name 'psycopg2' is not defined"
     ]
    }
   ],
   "source": [
    "conn = psycopg2.connect(\"host = localhost dbname = gal user = postgres\")"
   ]
  },
  {
   "cell_type": "code",
   "execution_count": 160,
   "metadata": {},
   "outputs": [],
   "source": [
    "cur = conn.cursor()"
   ]
  },
  {
   "cell_type": "code",
   "execution_count": 161,
   "metadata": {},
   "outputs": [],
   "source": [
    "cur.execute(\"\"\"select * from transactions LEFT JOIN products on transactions.UPC = products.UPC\"\"\")"
   ]
  },
  {
   "cell_type": "code",
   "execution_count": 162,
   "metadata": {},
   "outputs": [],
   "source": [
    "data = cur.fetchall()"
   ]
  },
  {
   "cell_type": "code",
   "execution_count": 175,
   "metadata": {},
   "outputs": [],
   "source": [
    "columns = \"WEEK_END_DATE,STORE_NUM,UPC,UNITS,VISITS,HHS,SPEND,PRICE,BASE_PRICE,FEATURE,DISPLAY,TPR_ONLY,upc,DESCRIPTION,MANUFACTURER,CATEGORY,SUB_CATEGORY,PRODUCT_SIZE\".split(',')"
   ]
  },
  {
   "cell_type": "code",
   "execution_count": 173,
   "metadata": {
    "scrolled": false
   },
   "outputs": [
    {
     "data": {
      "text/plain": [
       "(datetime.date(2009, 1, 14),\n",
       " 367,\n",
       " 1111009477,\n",
       " 13,\n",
       " 13,\n",
       " 13,\n",
       " 18.07,\n",
       " 1.39,\n",
       " 1.57,\n",
       " 0,\n",
       " 0,\n",
       " 1,\n",
       " 1111009477,\n",
       " 'PL MINI TWIST PRETZELS',\n",
       " 'PRIVATE LABEL',\n",
       " 'BAG SNACKS',\n",
       " 'PRETZELS',\n",
       " '15 OZ')"
      ]
     },
     "execution_count": 173,
     "metadata": {},
     "output_type": "execute_result"
    }
   ],
   "source": [
    "(data[0])"
   ]
  },
  {
   "cell_type": "code",
   "execution_count": 177,
   "metadata": {},
   "outputs": [],
   "source": [
    "\n",
    "df = pd.DataFrame(data, columns=columns)"
   ]
  },
  {
   "cell_type": "code",
   "execution_count": 12,
   "metadata": {},
   "outputs": [
    {
     "ename": "NameError",
     "evalue": "name 'df' is not defined",
     "output_type": "error",
     "traceback": [
      "\u001b[0;31m---------------------------------------------------------------------------\u001b[0m",
      "\u001b[0;31mNameError\u001b[0m                                 Traceback (most recent call last)",
      "\u001b[0;32m<ipython-input-12-e82adf2117af>\u001b[0m in \u001b[0;36m<module>\u001b[0;34m\u001b[0m\n\u001b[0;32m----> 1\u001b[0;31m \u001b[0mdf\u001b[0m\u001b[0;34m.\u001b[0m\u001b[0mcolumns\u001b[0m\u001b[0;34m\u001b[0m\u001b[0m\n\u001b[0m",
      "\u001b[0;31mNameError\u001b[0m: name 'df' is not defined"
     ]
    }
   ],
   "source": [
    "df.columns "
   ]
  },
  {
   "cell_type": "code",
   "execution_count": 182,
   "metadata": {
    "scrolled": true
   },
   "outputs": [
    {
     "data": {
      "text/plain": [
       "array(['BAG SNACKS', 'ORAL HYGIENE PRODUCTS'], dtype=object)"
      ]
     },
     "execution_count": 182,
     "metadata": {},
     "output_type": "execute_result"
    }
   ],
   "source": [
    "df.head().CATEGORY.unique()"
   ]
  },
  {
   "cell_type": "code",
   "execution_count": 218,
   "metadata": {},
   "outputs": [],
   "source": [
    "data = df[(df.STORE_NUM == unique_stores[22]) & (df.CATEGORY == 'BAG SNACKS')]"
   ]
  },
  {
   "cell_type": "code",
   "execution_count": 219,
   "metadata": {},
   "outputs": [
    {
     "data": {
      "text/plain": [
       "(789, 18)"
      ]
     },
     "execution_count": 219,
     "metadata": {},
     "output_type": "execute_result"
    }
   ],
   "source": [
    "\n",
    "data.shape"
   ]
  },
  {
   "cell_type": "code",
   "execution_count": 220,
   "metadata": {},
   "outputs": [],
   "source": [
    "data = data.rename(index = str, columns={'PRICE': 'base_price', 'BASE_PRICE': 'price'})"
   ]
  },
  {
   "cell_type": "code",
   "execution_count": 221,
   "metadata": {},
   "outputs": [],
   "source": [
    "data = data.drop('SPEND', axis = 1)"
   ]
  },
  {
   "cell_type": "code",
   "execution_count": 222,
   "metadata": {},
   "outputs": [],
   "source": [
    "data['SPEND'] = data['price'] * data['UNITS']"
   ]
  },
  {
   "cell_type": "code",
   "execution_count": 223,
   "metadata": {},
   "outputs": [],
   "source": [
    "data.WEEK_END_DATE = pd.to_datetime(data.WEEK_END_DATE)"
   ]
  },
  {
   "cell_type": "code",
   "execution_count": 224,
   "metadata": {},
   "outputs": [],
   "source": [
    "data.index = data.WEEK_END_DATE"
   ]
  },
  {
   "cell_type": "code",
   "execution_count": null,
   "metadata": {},
   "outputs": [],
   "source": []
  },
  {
   "cell_type": "code",
   "execution_count": 232,
   "metadata": {},
   "outputs": [
    {
     "data": {
      "text/plain": [
       "(789, 18)"
      ]
     },
     "execution_count": 232,
     "metadata": {},
     "output_type": "execute_result"
    }
   ],
   "source": [
    "data.shape"
   ]
  },
  {
   "cell_type": "code",
   "execution_count": 233,
   "metadata": {},
   "outputs": [],
   "source": [
    "data = data.dropna()"
   ]
  },
  {
   "cell_type": "code",
   "execution_count": 234,
   "metadata": {},
   "outputs": [],
   "source": [
    "lr = LinearRegression()"
   ]
  },
  {
   "cell_type": "code",
   "execution_count": 235,
   "metadata": {},
   "outputs": [
    {
     "data": {
      "text/plain": [
       "LinearRegression(copy_X=True, fit_intercept=True, n_jobs=None,\n",
       "         normalize=False)"
      ]
     },
     "execution_count": 235,
     "metadata": {},
     "output_type": "execute_result"
    }
   ],
   "source": [
    "lr.fit(X=data[['price']], y = data['UNITS'])"
   ]
  },
  {
   "cell_type": "code",
   "execution_count": 236,
   "metadata": {},
   "outputs": [
    {
     "data": {
      "text/plain": [
       "6.718809358165631"
      ]
     },
     "execution_count": 236,
     "metadata": {},
     "output_type": "execute_result"
    }
   ],
   "source": [
    "lr.intercept_"
   ]
  },
  {
   "cell_type": "markdown",
   "metadata": {},
   "source": [
    "# the coef doesnt change, given extra columns ( STRANGE)"
   ]
  },
  {
   "cell_type": "code",
   "execution_count": 237,
   "metadata": {},
   "outputs": [
    {
     "data": {
      "text/plain": [
       "-1.4870493394237314"
      ]
     },
     "execution_count": 237,
     "metadata": {},
     "output_type": "execute_result"
    }
   ],
   "source": [
    "lr.coef_[0]"
   ]
  },
  {
   "cell_type": "code",
   "execution_count": 238,
   "metadata": {},
   "outputs": [
    {
     "data": {
      "text/plain": [
       "[<matplotlib.lines.Line2D at 0x7fc26c7d4748>]"
      ]
     },
     "execution_count": 238,
     "metadata": {},
     "output_type": "execute_result"
    },
    {
     "data": {
      "image/png": "[encoded data removed]",
      "text/plain": [
       "<Figure size 432x288 with 1 Axes>"
      ]
     },
     "metadata": {
      "needs_background": "light"
     },
     "output_type": "display_data"
    }
   ],
   "source": [
    "plt.scatter(data.price, data.UNITS)\n",
    "\n",
    "#plt.plot( 'r -- ')\n",
    "plt.plot(data.price, f(data.price), 'r')"
   ]
  },
  {
   "cell_type": "code",
   "execution_count": null,
   "metadata": {},
   "outputs": [],
   "source": []
  },
  {
   "cell_type": "code",
   "execution_count": 240,
   "metadata": {
    "scrolled": true
   },
   "outputs": [
    {
     "data": {
      "text/plain": [
       "3.29"
      ]
     },
     "execution_count": 240,
     "metadata": {},
     "output_type": "execute_result"
    }
   ],
   "source": [
    "data.base_price.iloc[-1]"
   ]
  },
  {
   "cell_type": "code",
   "execution_count": 247,
   "metadata": {},
   "outputs": [],
   "source": [
    "actual_base_price = data.base_price.iloc[-1]\n",
    "\n",
    "x = np.arange(data.price.min(), data.price.max() + 2, 0.01)\n",
    "y = []\n",
    "\n",
    "for i in range(x.shape[0]):\n",
    "    y.append((x[i] - actual_base_price)*(lr.intercept_+lr.coef_[0]*x[i]))"
   ]
  },
  {
   "cell_type": "code",
   "execution_count": 257,
   "metadata": {},
   "outputs": [
    {
     "data": {
      "text/plain": [
       "[<matplotlib.lines.Line2D at 0x7fc26c5545c0>]"
      ]
     },
     "execution_count": 257,
     "metadata": {},
     "output_type": "execute_result"
    },
    {
     "data": {
      "image/png": "[encoded data removed]",
      "text/plain": [
       "<Figure size 432x288 with 1 Axes>"
      ]
     },
     "metadata": {
      "needs_background": "light"
     },
     "output_type": "display_data"
    }
   ],
   "source": [
    "plt.plot(x,np.array(y) + abs(min(y)))\n",
    "\n",
    "plt.plot(x[np.array(y).argmax(axis=0)], np.array(y).max()+abs(min(y)), 'g H')\n",
    "plt.plot(current_price, (current_price - actual_base_price)*(lr.intercept_+lr.coef_[0]*current_price)+abs(min(y)), 'r H')"
   ]
  },
  {
   "cell_type": "code",
   "execution_count": 217,
   "metadata": {
    "scrolled": true
   },
   "outputs": [
    {
     "data": {
      "text/plain": [
       "WEEK_END_DATE\n",
       "2009-01-14    1.18\n",
       "2009-01-14    1.19\n",
       "2009-01-14    1.18\n",
       "2009-01-14    2.49\n",
       "2009-01-14    2.49\n",
       "2009-01-14    2.49\n",
       "2009-01-14    2.50\n",
       "2009-01-21    0.96\n",
       "2009-01-21    0.98\n",
       "2009-01-21    0.98\n",
       "2009-01-21    2.49\n",
       "2009-01-21    2.49\n",
       "2009-01-21    2.49\n",
       "2009-01-21    2.39\n",
       "2009-01-21    2.50\n",
       "2009-01-28    0.97\n",
       "2009-01-28    0.96\n",
       "2009-01-28    1.00\n",
       "2009-01-28    2.49\n",
       "2009-01-28    2.49\n",
       "2009-01-28    2.49\n",
       "2009-01-28    2.39\n",
       "2009-02-04    1.16\n",
       "2009-02-04    1.15\n",
       "2009-02-04    1.15\n",
       "2009-02-04    2.49\n",
       "2009-02-04    2.49\n",
       "2009-02-04    2.49\n",
       "2009-02-04    2.39\n",
       "2009-02-11    1.17\n",
       "              ... \n",
       "2011-12-07    2.69\n",
       "2011-12-07    2.69\n",
       "2011-12-14    1.21\n",
       "2011-12-14    1.14\n",
       "2011-12-14    1.23\n",
       "2011-12-14    3.29\n",
       "2011-12-14    3.29\n",
       "2011-12-14    2.50\n",
       "2011-12-14    3.29\n",
       "2011-12-21    1.22\n",
       "2011-12-21    1.17\n",
       "2011-12-21    1.19\n",
       "2011-12-21    3.29\n",
       "2011-12-21    3.29\n",
       "2011-12-21    2.50\n",
       "2011-12-21    3.29\n",
       "2011-12-28    1.20\n",
       "2011-12-28    1.23\n",
       "2011-12-28    1.19\n",
       "2011-12-28    3.29\n",
       "2011-12-28    3.29\n",
       "2011-12-28    2.50\n",
       "2011-12-28    3.29\n",
       "2012-01-04    1.20\n",
       "2012-01-04    1.23\n",
       "2012-01-04    1.21\n",
       "2012-01-04    3.29\n",
       "2012-01-04    3.29\n",
       "2012-01-04    2.65\n",
       "2012-01-04    3.29\n",
       "Name: base_price, Length: 1240, dtype: float64"
      ]
     },
     "execution_count": 217,
     "metadata": {},
     "output_type": "execute_result"
    }
   ],
   "source": [
    "data.base_price"
   ]
  },
  {
   "cell_type": "markdown",
   "metadata": {},
   "source": [
    "# Try to increase oberved storages"
   ]
  },
  {
   "cell_type": "code",
   "execution_count": null,
   "metadata": {},
   "outputs": [],
   "source": []
  }
 ],
 "metadata": {
  "kernelspec": {
   "display_name": "gallantra",
   "language": "python",
   "name": "gallantra"
  },
  "language_info": {
   "codemirror_mode": {
    "name": "ipython",
    "version": 3
   },
   "file_extension": ".py",
   "mimetype": "text/x-python",
   "name": "python",
   "nbconvert_exporter": "python",
   "pygments_lexer": "ipython3",
   "version": "3.5.2"
  }
 },
 "nbformat": 4,
 "nbformat_minor": 2
}
